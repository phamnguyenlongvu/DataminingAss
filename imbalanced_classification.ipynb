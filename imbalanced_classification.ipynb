{
  "nbformat": 4,
  "nbformat_minor": 0,
  "metadata": {
    "colab": {
      "name": "imbalanced_classification.ipynb",
      "provenance": [],
      "collapsed_sections": []
    },
    "kernelspec": {
      "name": "python3",
      "display_name": "Python 3"
    },
    "language_info": {
      "name": "python"
    }
  },
  "cells": [
    {
      "cell_type": "markdown",
      "source": [
        "# <1> Import library, API"
      ],
      "metadata": {
        "id": "D-DniLYEQ3lE"
      }
    },
    {
      "cell_type": "code",
      "execution_count": null,
      "metadata": {
        "id": "wcPTgXvaQvNZ"
      },
      "outputs": [],
      "source": [
        "import matplotlib.pyplot as plt\n",
        "import numpy as np\n",
        "import pandas as pd\n",
        "import seaborn as sns\n",
        "from tensorflow import keras\n",
        "from sklearn.model_selection import train_test_split\n",
        "from sklearn.metrics import confusion_matrix\n",
        "from sklearn.metrics import precision_recall_curve\n",
        "from collections import Counter"
      ]
    },
    {
      "cell_type": "code",
      "source": [
        "colors = plt.rcParams['axes.prop_cycle'].by_key()['color']"
      ],
      "metadata": {
        "id": "4G47R1xvkHjZ"
      },
      "execution_count": null,
      "outputs": []
    },
    {
      "cell_type": "markdown",
      "source": [
        "# <2> Load dataset and create training, validation and test set\n",
        "\n"
      ],
      "metadata": {
        "id": "qaygPXpqRMyT"
      }
    },
    {
      "cell_type": "code",
      "source": [
        "dataset = pd.read_csv('https://storage.googleapis.com/download.tensorflow.org/data/creditcard.csv')\n",
        "dataset.head()"
      ],
      "metadata": {
        "id": "zUr4xQ9QSXtV",
        "colab": {
          "base_uri": "https://localhost:8080/",
          "height": 300
        },
        "outputId": "0ce76a38-87b8-4a63-b9c3-55f039a2d1a7"
      },
      "execution_count": null,
      "outputs": [
        {
          "output_type": "execute_result",
          "data": {
            "text/plain": [
              "   Time        V1        V2        V3        V4        V5        V6        V7  \\\n",
              "0   0.0 -1.359807 -0.072781  2.536347  1.378155 -0.338321  0.462388  0.239599   \n",
              "1   0.0  1.191857  0.266151  0.166480  0.448154  0.060018 -0.082361 -0.078803   \n",
              "2   1.0 -1.358354 -1.340163  1.773209  0.379780 -0.503198  1.800499  0.791461   \n",
              "3   1.0 -0.966272 -0.185226  1.792993 -0.863291 -0.010309  1.247203  0.237609   \n",
              "4   2.0 -1.158233  0.877737  1.548718  0.403034 -0.407193  0.095921  0.592941   \n",
              "\n",
              "         V8        V9  ...       V21       V22       V23       V24       V25  \\\n",
              "0  0.098698  0.363787  ... -0.018307  0.277838 -0.110474  0.066928  0.128539   \n",
              "1  0.085102 -0.255425  ... -0.225775 -0.638672  0.101288 -0.339846  0.167170   \n",
              "2  0.247676 -1.514654  ...  0.247998  0.771679  0.909412 -0.689281 -0.327642   \n",
              "3  0.377436 -1.387024  ... -0.108300  0.005274 -0.190321 -1.175575  0.647376   \n",
              "4 -0.270533  0.817739  ... -0.009431  0.798278 -0.137458  0.141267 -0.206010   \n",
              "\n",
              "        V26       V27       V28  Amount  Class  \n",
              "0 -0.189115  0.133558 -0.021053  149.62      0  \n",
              "1  0.125895 -0.008983  0.014724    2.69      0  \n",
              "2 -0.139097 -0.055353 -0.059752  378.66      0  \n",
              "3 -0.221929  0.062723  0.061458  123.50      0  \n",
              "4  0.502292  0.219422  0.215153   69.99      0  \n",
              "\n",
              "[5 rows x 31 columns]"
            ],
            "text/html": [
              "\n",
              "  <div id=\"df-7a80933b-b4c3-4100-ae38-0a823cdf67ea\">\n",
              "    <div class=\"colab-df-container\">\n",
              "      <div>\n",
              "<style scoped>\n",
              "    .dataframe tbody tr th:only-of-type {\n",
              "        vertical-align: middle;\n",
              "    }\n",
              "\n",
              "    .dataframe tbody tr th {\n",
              "        vertical-align: top;\n",
              "    }\n",
              "\n",
              "    .dataframe thead th {\n",
              "        text-align: right;\n",
              "    }\n",
              "</style>\n",
              "<table border=\"1\" class=\"dataframe\">\n",
              "  <thead>\n",
              "    <tr style=\"text-align: right;\">\n",
              "      <th></th>\n",
              "      <th>Time</th>\n",
              "      <th>V1</th>\n",
              "      <th>V2</th>\n",
              "      <th>V3</th>\n",
              "      <th>V4</th>\n",
              "      <th>V5</th>\n",
              "      <th>V6</th>\n",
              "      <th>V7</th>\n",
              "      <th>V8</th>\n",
              "      <th>V9</th>\n",
              "      <th>...</th>\n",
              "      <th>V21</th>\n",
              "      <th>V22</th>\n",
              "      <th>V23</th>\n",
              "      <th>V24</th>\n",
              "      <th>V25</th>\n",
              "      <th>V26</th>\n",
              "      <th>V27</th>\n",
              "      <th>V28</th>\n",
              "      <th>Amount</th>\n",
              "      <th>Class</th>\n",
              "    </tr>\n",
              "  </thead>\n",
              "  <tbody>\n",
              "    <tr>\n",
              "      <th>0</th>\n",
              "      <td>0.0</td>\n",
              "      <td>-1.359807</td>\n",
              "      <td>-0.072781</td>\n",
              "      <td>2.536347</td>\n",
              "      <td>1.378155</td>\n",
              "      <td>-0.338321</td>\n",
              "      <td>0.462388</td>\n",
              "      <td>0.239599</td>\n",
              "      <td>0.098698</td>\n",
              "      <td>0.363787</td>\n",
              "      <td>...</td>\n",
              "      <td>-0.018307</td>\n",
              "      <td>0.277838</td>\n",
              "      <td>-0.110474</td>\n",
              "      <td>0.066928</td>\n",
              "      <td>0.128539</td>\n",
              "      <td>-0.189115</td>\n",
              "      <td>0.133558</td>\n",
              "      <td>-0.021053</td>\n",
              "      <td>149.62</td>\n",
              "      <td>0</td>\n",
              "    </tr>\n",
              "    <tr>\n",
              "      <th>1</th>\n",
              "      <td>0.0</td>\n",
              "      <td>1.191857</td>\n",
              "      <td>0.266151</td>\n",
              "      <td>0.166480</td>\n",
              "      <td>0.448154</td>\n",
              "      <td>0.060018</td>\n",
              "      <td>-0.082361</td>\n",
              "      <td>-0.078803</td>\n",
              "      <td>0.085102</td>\n",
              "      <td>-0.255425</td>\n",
              "      <td>...</td>\n",
              "      <td>-0.225775</td>\n",
              "      <td>-0.638672</td>\n",
              "      <td>0.101288</td>\n",
              "      <td>-0.339846</td>\n",
              "      <td>0.167170</td>\n",
              "      <td>0.125895</td>\n",
              "      <td>-0.008983</td>\n",
              "      <td>0.014724</td>\n",
              "      <td>2.69</td>\n",
              "      <td>0</td>\n",
              "    </tr>\n",
              "    <tr>\n",
              "      <th>2</th>\n",
              "      <td>1.0</td>\n",
              "      <td>-1.358354</td>\n",
              "      <td>-1.340163</td>\n",
              "      <td>1.773209</td>\n",
              "      <td>0.379780</td>\n",
              "      <td>-0.503198</td>\n",
              "      <td>1.800499</td>\n",
              "      <td>0.791461</td>\n",
              "      <td>0.247676</td>\n",
              "      <td>-1.514654</td>\n",
              "      <td>...</td>\n",
              "      <td>0.247998</td>\n",
              "      <td>0.771679</td>\n",
              "      <td>0.909412</td>\n",
              "      <td>-0.689281</td>\n",
              "      <td>-0.327642</td>\n",
              "      <td>-0.139097</td>\n",
              "      <td>-0.055353</td>\n",
              "      <td>-0.059752</td>\n",
              "      <td>378.66</td>\n",
              "      <td>0</td>\n",
              "    </tr>\n",
              "    <tr>\n",
              "      <th>3</th>\n",
              "      <td>1.0</td>\n",
              "      <td>-0.966272</td>\n",
              "      <td>-0.185226</td>\n",
              "      <td>1.792993</td>\n",
              "      <td>-0.863291</td>\n",
              "      <td>-0.010309</td>\n",
              "      <td>1.247203</td>\n",
              "      <td>0.237609</td>\n",
              "      <td>0.377436</td>\n",
              "      <td>-1.387024</td>\n",
              "      <td>...</td>\n",
              "      <td>-0.108300</td>\n",
              "      <td>0.005274</td>\n",
              "      <td>-0.190321</td>\n",
              "      <td>-1.175575</td>\n",
              "      <td>0.647376</td>\n",
              "      <td>-0.221929</td>\n",
              "      <td>0.062723</td>\n",
              "      <td>0.061458</td>\n",
              "      <td>123.50</td>\n",
              "      <td>0</td>\n",
              "    </tr>\n",
              "    <tr>\n",
              "      <th>4</th>\n",
              "      <td>2.0</td>\n",
              "      <td>-1.158233</td>\n",
              "      <td>0.877737</td>\n",
              "      <td>1.548718</td>\n",
              "      <td>0.403034</td>\n",
              "      <td>-0.407193</td>\n",
              "      <td>0.095921</td>\n",
              "      <td>0.592941</td>\n",
              "      <td>-0.270533</td>\n",
              "      <td>0.817739</td>\n",
              "      <td>...</td>\n",
              "      <td>-0.009431</td>\n",
              "      <td>0.798278</td>\n",
              "      <td>-0.137458</td>\n",
              "      <td>0.141267</td>\n",
              "      <td>-0.206010</td>\n",
              "      <td>0.502292</td>\n",
              "      <td>0.219422</td>\n",
              "      <td>0.215153</td>\n",
              "      <td>69.99</td>\n",
              "      <td>0</td>\n",
              "    </tr>\n",
              "  </tbody>\n",
              "</table>\n",
              "<p>5 rows × 31 columns</p>\n",
              "</div>\n",
              "      <button class=\"colab-df-convert\" onclick=\"convertToInteractive('df-7a80933b-b4c3-4100-ae38-0a823cdf67ea')\"\n",
              "              title=\"Convert this dataframe to an interactive table.\"\n",
              "              style=\"display:none;\">\n",
              "        \n",
              "  <svg xmlns=\"http://www.w3.org/2000/svg\" height=\"24px\"viewBox=\"0 0 24 24\"\n",
              "       width=\"24px\">\n",
              "    <path d=\"M0 0h24v24H0V0z\" fill=\"none\"/>\n",
              "    <path d=\"M18.56 5.44l.94 2.06.94-2.06 2.06-.94-2.06-.94-.94-2.06-.94 2.06-2.06.94zm-11 1L8.5 8.5l.94-2.06 2.06-.94-2.06-.94L8.5 2.5l-.94 2.06-2.06.94zm10 10l.94 2.06.94-2.06 2.06-.94-2.06-.94-.94-2.06-.94 2.06-2.06.94z\"/><path d=\"M17.41 7.96l-1.37-1.37c-.4-.4-.92-.59-1.43-.59-.52 0-1.04.2-1.43.59L10.3 9.45l-7.72 7.72c-.78.78-.78 2.05 0 2.83L4 21.41c.39.39.9.59 1.41.59.51 0 1.02-.2 1.41-.59l7.78-7.78 2.81-2.81c.8-.78.8-2.07 0-2.86zM5.41 20L4 18.59l7.72-7.72 1.47 1.35L5.41 20z\"/>\n",
              "  </svg>\n",
              "      </button>\n",
              "      \n",
              "  <style>\n",
              "    .colab-df-container {\n",
              "      display:flex;\n",
              "      flex-wrap:wrap;\n",
              "      gap: 12px;\n",
              "    }\n",
              "\n",
              "    .colab-df-convert {\n",
              "      background-color: #E8F0FE;\n",
              "      border: none;\n",
              "      border-radius: 50%;\n",
              "      cursor: pointer;\n",
              "      display: none;\n",
              "      fill: #1967D2;\n",
              "      height: 32px;\n",
              "      padding: 0 0 0 0;\n",
              "      width: 32px;\n",
              "    }\n",
              "\n",
              "    .colab-df-convert:hover {\n",
              "      background-color: #E2EBFA;\n",
              "      box-shadow: 0px 1px 2px rgba(60, 64, 67, 0.3), 0px 1px 3px 1px rgba(60, 64, 67, 0.15);\n",
              "      fill: #174EA6;\n",
              "    }\n",
              "\n",
              "    [theme=dark] .colab-df-convert {\n",
              "      background-color: #3B4455;\n",
              "      fill: #D2E3FC;\n",
              "    }\n",
              "\n",
              "    [theme=dark] .colab-df-convert:hover {\n",
              "      background-color: #434B5C;\n",
              "      box-shadow: 0px 1px 3px 1px rgba(0, 0, 0, 0.15);\n",
              "      filter: drop-shadow(0px 1px 2px rgba(0, 0, 0, 0.3));\n",
              "      fill: #FFFFFF;\n",
              "    }\n",
              "  </style>\n",
              "\n",
              "      <script>\n",
              "        const buttonEl =\n",
              "          document.querySelector('#df-7a80933b-b4c3-4100-ae38-0a823cdf67ea button.colab-df-convert');\n",
              "        buttonEl.style.display =\n",
              "          google.colab.kernel.accessAllowed ? 'block' : 'none';\n",
              "\n",
              "        async function convertToInteractive(key) {\n",
              "          const element = document.querySelector('#df-7a80933b-b4c3-4100-ae38-0a823cdf67ea');\n",
              "          const dataTable =\n",
              "            await google.colab.kernel.invokeFunction('convertToInteractive',\n",
              "                                                     [key], {});\n",
              "          if (!dataTable) return;\n",
              "\n",
              "          const docLinkHtml = 'Like what you see? Visit the ' +\n",
              "            '<a target=\"_blank\" href=https://colab.research.google.com/notebooks/data_table.ipynb>data table notebook</a>'\n",
              "            + ' to learn more about interactive tables.';\n",
              "          element.innerHTML = '';\n",
              "          dataTable['output_type'] = 'display_data';\n",
              "          await google.colab.output.renderOutput(dataTable, element);\n",
              "          const docLink = document.createElement('div');\n",
              "          docLink.innerHTML = docLinkHtml;\n",
              "          element.appendChild(docLink);\n",
              "        }\n",
              "      </script>\n",
              "    </div>\n",
              "  </div>\n",
              "  "
            ]
          },
          "metadata": {},
          "execution_count": 141
        }
      ]
    },
    {
      "cell_type": "code",
      "source": [
        "# Check for imbalance in dataset\n",
        "negative, positive = np.bincount(dataset['Class'])\n",
        "total = negative + positive\n",
        "print('Total: {}\\nPositive: {} ({:.3f}% of total)'.format(total, positive, positive / total * 100))"
      ],
      "metadata": {
        "id": "jF1df-Vmshcv",
        "colab": {
          "base_uri": "https://localhost:8080/"
        },
        "outputId": "bad19145-4af1-4e86-d014-0f6c36e7d346"
      },
      "execution_count": null,
      "outputs": [
        {
          "output_type": "stream",
          "name": "stdout",
          "text": [
            "Total: 284807\n",
            "Positive: 492 (0.173% of total)\n"
          ]
        }
      ]
    },
    {
      "cell_type": "code",
      "source": [
        "# Describe some columns\n",
        "dataset[['Time', 'V1', 'V2', 'V3', 'V4', 'V5', 'V26', 'V27', 'V28', 'Amount', 'Class']].describe()"
      ],
      "metadata": {
        "id": "zF9wLyQ52-CA",
        "colab": {
          "base_uri": "https://localhost:8080/",
          "height": 364
        },
        "outputId": "315a5dc8-8fae-44e6-c45f-33b91c24ad05"
      },
      "execution_count": null,
      "outputs": [
        {
          "output_type": "execute_result",
          "data": {
            "text/plain": [
              "                Time            V1            V2            V3            V4  \\\n",
              "count  284807.000000  2.848070e+05  2.848070e+05  2.848070e+05  2.848070e+05   \n",
              "mean    94813.859575  3.918649e-15  5.682686e-16 -8.761736e-15  2.811118e-15   \n",
              "std     47488.145955  1.958696e+00  1.651309e+00  1.516255e+00  1.415869e+00   \n",
              "min         0.000000 -5.640751e+01 -7.271573e+01 -4.832559e+01 -5.683171e+00   \n",
              "25%     54201.500000 -9.203734e-01 -5.985499e-01 -8.903648e-01 -8.486401e-01   \n",
              "50%     84692.000000  1.810880e-02  6.548556e-02  1.798463e-01 -1.984653e-02   \n",
              "75%    139320.500000  1.315642e+00  8.037239e-01  1.027196e+00  7.433413e-01   \n",
              "max    172792.000000  2.454930e+00  2.205773e+01  9.382558e+00  1.687534e+01   \n",
              "\n",
              "                 V5           V26           V27           V28         Amount  \\\n",
              "count  2.848070e+05  2.848070e+05  2.848070e+05  2.848070e+05  284807.000000   \n",
              "mean  -1.552103e-15  1.701640e-15 -3.662252e-16 -1.217809e-16      88.349619   \n",
              "std    1.380247e+00  4.822270e-01  4.036325e-01  3.300833e-01     250.120109   \n",
              "min   -1.137433e+02 -2.604551e+00 -2.256568e+01 -1.543008e+01       0.000000   \n",
              "25%   -6.915971e-01 -3.269839e-01 -7.083953e-02 -5.295979e-02       5.600000   \n",
              "50%   -5.433583e-02 -5.213911e-02  1.342146e-03  1.124383e-02      22.000000   \n",
              "75%    6.119264e-01  2.409522e-01  9.104512e-02  7.827995e-02      77.165000   \n",
              "max    3.480167e+01  3.517346e+00  3.161220e+01  3.384781e+01   25691.160000   \n",
              "\n",
              "               Class  \n",
              "count  284807.000000  \n",
              "mean        0.001727  \n",
              "std         0.041527  \n",
              "min         0.000000  \n",
              "25%         0.000000  \n",
              "50%         0.000000  \n",
              "75%         0.000000  \n",
              "max         1.000000  "
            ],
            "text/html": [
              "\n",
              "  <div id=\"df-c0c020aa-b647-4cc3-bb5c-160c38a1ac9b\">\n",
              "    <div class=\"colab-df-container\">\n",
              "      <div>\n",
              "<style scoped>\n",
              "    .dataframe tbody tr th:only-of-type {\n",
              "        vertical-align: middle;\n",
              "    }\n",
              "\n",
              "    .dataframe tbody tr th {\n",
              "        vertical-align: top;\n",
              "    }\n",
              "\n",
              "    .dataframe thead th {\n",
              "        text-align: right;\n",
              "    }\n",
              "</style>\n",
              "<table border=\"1\" class=\"dataframe\">\n",
              "  <thead>\n",
              "    <tr style=\"text-align: right;\">\n",
              "      <th></th>\n",
              "      <th>Time</th>\n",
              "      <th>V1</th>\n",
              "      <th>V2</th>\n",
              "      <th>V3</th>\n",
              "      <th>V4</th>\n",
              "      <th>V5</th>\n",
              "      <th>V26</th>\n",
              "      <th>V27</th>\n",
              "      <th>V28</th>\n",
              "      <th>Amount</th>\n",
              "      <th>Class</th>\n",
              "    </tr>\n",
              "  </thead>\n",
              "  <tbody>\n",
              "    <tr>\n",
              "      <th>count</th>\n",
              "      <td>284807.000000</td>\n",
              "      <td>2.848070e+05</td>\n",
              "      <td>2.848070e+05</td>\n",
              "      <td>2.848070e+05</td>\n",
              "      <td>2.848070e+05</td>\n",
              "      <td>2.848070e+05</td>\n",
              "      <td>2.848070e+05</td>\n",
              "      <td>2.848070e+05</td>\n",
              "      <td>2.848070e+05</td>\n",
              "      <td>284807.000000</td>\n",
              "      <td>284807.000000</td>\n",
              "    </tr>\n",
              "    <tr>\n",
              "      <th>mean</th>\n",
              "      <td>94813.859575</td>\n",
              "      <td>3.918649e-15</td>\n",
              "      <td>5.682686e-16</td>\n",
              "      <td>-8.761736e-15</td>\n",
              "      <td>2.811118e-15</td>\n",
              "      <td>-1.552103e-15</td>\n",
              "      <td>1.701640e-15</td>\n",
              "      <td>-3.662252e-16</td>\n",
              "      <td>-1.217809e-16</td>\n",
              "      <td>88.349619</td>\n",
              "      <td>0.001727</td>\n",
              "    </tr>\n",
              "    <tr>\n",
              "      <th>std</th>\n",
              "      <td>47488.145955</td>\n",
              "      <td>1.958696e+00</td>\n",
              "      <td>1.651309e+00</td>\n",
              "      <td>1.516255e+00</td>\n",
              "      <td>1.415869e+00</td>\n",
              "      <td>1.380247e+00</td>\n",
              "      <td>4.822270e-01</td>\n",
              "      <td>4.036325e-01</td>\n",
              "      <td>3.300833e-01</td>\n",
              "      <td>250.120109</td>\n",
              "      <td>0.041527</td>\n",
              "    </tr>\n",
              "    <tr>\n",
              "      <th>min</th>\n",
              "      <td>0.000000</td>\n",
              "      <td>-5.640751e+01</td>\n",
              "      <td>-7.271573e+01</td>\n",
              "      <td>-4.832559e+01</td>\n",
              "      <td>-5.683171e+00</td>\n",
              "      <td>-1.137433e+02</td>\n",
              "      <td>-2.604551e+00</td>\n",
              "      <td>-2.256568e+01</td>\n",
              "      <td>-1.543008e+01</td>\n",
              "      <td>0.000000</td>\n",
              "      <td>0.000000</td>\n",
              "    </tr>\n",
              "    <tr>\n",
              "      <th>25%</th>\n",
              "      <td>54201.500000</td>\n",
              "      <td>-9.203734e-01</td>\n",
              "      <td>-5.985499e-01</td>\n",
              "      <td>-8.903648e-01</td>\n",
              "      <td>-8.486401e-01</td>\n",
              "      <td>-6.915971e-01</td>\n",
              "      <td>-3.269839e-01</td>\n",
              "      <td>-7.083953e-02</td>\n",
              "      <td>-5.295979e-02</td>\n",
              "      <td>5.600000</td>\n",
              "      <td>0.000000</td>\n",
              "    </tr>\n",
              "    <tr>\n",
              "      <th>50%</th>\n",
              "      <td>84692.000000</td>\n",
              "      <td>1.810880e-02</td>\n",
              "      <td>6.548556e-02</td>\n",
              "      <td>1.798463e-01</td>\n",
              "      <td>-1.984653e-02</td>\n",
              "      <td>-5.433583e-02</td>\n",
              "      <td>-5.213911e-02</td>\n",
              "      <td>1.342146e-03</td>\n",
              "      <td>1.124383e-02</td>\n",
              "      <td>22.000000</td>\n",
              "      <td>0.000000</td>\n",
              "    </tr>\n",
              "    <tr>\n",
              "      <th>75%</th>\n",
              "      <td>139320.500000</td>\n",
              "      <td>1.315642e+00</td>\n",
              "      <td>8.037239e-01</td>\n",
              "      <td>1.027196e+00</td>\n",
              "      <td>7.433413e-01</td>\n",
              "      <td>6.119264e-01</td>\n",
              "      <td>2.409522e-01</td>\n",
              "      <td>9.104512e-02</td>\n",
              "      <td>7.827995e-02</td>\n",
              "      <td>77.165000</td>\n",
              "      <td>0.000000</td>\n",
              "    </tr>\n",
              "    <tr>\n",
              "      <th>max</th>\n",
              "      <td>172792.000000</td>\n",
              "      <td>2.454930e+00</td>\n",
              "      <td>2.205773e+01</td>\n",
              "      <td>9.382558e+00</td>\n",
              "      <td>1.687534e+01</td>\n",
              "      <td>3.480167e+01</td>\n",
              "      <td>3.517346e+00</td>\n",
              "      <td>3.161220e+01</td>\n",
              "      <td>3.384781e+01</td>\n",
              "      <td>25691.160000</td>\n",
              "      <td>1.000000</td>\n",
              "    </tr>\n",
              "  </tbody>\n",
              "</table>\n",
              "</div>\n",
              "      <button class=\"colab-df-convert\" onclick=\"convertToInteractive('df-c0c020aa-b647-4cc3-bb5c-160c38a1ac9b')\"\n",
              "              title=\"Convert this dataframe to an interactive table.\"\n",
              "              style=\"display:none;\">\n",
              "        \n",
              "  <svg xmlns=\"http://www.w3.org/2000/svg\" height=\"24px\"viewBox=\"0 0 24 24\"\n",
              "       width=\"24px\">\n",
              "    <path d=\"M0 0h24v24H0V0z\" fill=\"none\"/>\n",
              "    <path d=\"M18.56 5.44l.94 2.06.94-2.06 2.06-.94-2.06-.94-.94-2.06-.94 2.06-2.06.94zm-11 1L8.5 8.5l.94-2.06 2.06-.94-2.06-.94L8.5 2.5l-.94 2.06-2.06.94zm10 10l.94 2.06.94-2.06 2.06-.94-2.06-.94-.94-2.06-.94 2.06-2.06.94z\"/><path d=\"M17.41 7.96l-1.37-1.37c-.4-.4-.92-.59-1.43-.59-.52 0-1.04.2-1.43.59L10.3 9.45l-7.72 7.72c-.78.78-.78 2.05 0 2.83L4 21.41c.39.39.9.59 1.41.59.51 0 1.02-.2 1.41-.59l7.78-7.78 2.81-2.81c.8-.78.8-2.07 0-2.86zM5.41 20L4 18.59l7.72-7.72 1.47 1.35L5.41 20z\"/>\n",
              "  </svg>\n",
              "      </button>\n",
              "      \n",
              "  <style>\n",
              "    .colab-df-container {\n",
              "      display:flex;\n",
              "      flex-wrap:wrap;\n",
              "      gap: 12px;\n",
              "    }\n",
              "\n",
              "    .colab-df-convert {\n",
              "      background-color: #E8F0FE;\n",
              "      border: none;\n",
              "      border-radius: 50%;\n",
              "      cursor: pointer;\n",
              "      display: none;\n",
              "      fill: #1967D2;\n",
              "      height: 32px;\n",
              "      padding: 0 0 0 0;\n",
              "      width: 32px;\n",
              "    }\n",
              "\n",
              "    .colab-df-convert:hover {\n",
              "      background-color: #E2EBFA;\n",
              "      box-shadow: 0px 1px 2px rgba(60, 64, 67, 0.3), 0px 1px 3px 1px rgba(60, 64, 67, 0.15);\n",
              "      fill: #174EA6;\n",
              "    }\n",
              "\n",
              "    [theme=dark] .colab-df-convert {\n",
              "      background-color: #3B4455;\n",
              "      fill: #D2E3FC;\n",
              "    }\n",
              "\n",
              "    [theme=dark] .colab-df-convert:hover {\n",
              "      background-color: #434B5C;\n",
              "      box-shadow: 0px 1px 3px 1px rgba(0, 0, 0, 0.15);\n",
              "      filter: drop-shadow(0px 1px 2px rgba(0, 0, 0, 0.3));\n",
              "      fill: #FFFFFF;\n",
              "    }\n",
              "  </style>\n",
              "\n",
              "      <script>\n",
              "        const buttonEl =\n",
              "          document.querySelector('#df-c0c020aa-b647-4cc3-bb5c-160c38a1ac9b button.colab-df-convert');\n",
              "        buttonEl.style.display =\n",
              "          google.colab.kernel.accessAllowed ? 'block' : 'none';\n",
              "\n",
              "        async function convertToInteractive(key) {\n",
              "          const element = document.querySelector('#df-c0c020aa-b647-4cc3-bb5c-160c38a1ac9b');\n",
              "          const dataTable =\n",
              "            await google.colab.kernel.invokeFunction('convertToInteractive',\n",
              "                                                     [key], {});\n",
              "          if (!dataTable) return;\n",
              "\n",
              "          const docLinkHtml = 'Like what you see? Visit the ' +\n",
              "            '<a target=\"_blank\" href=https://colab.research.google.com/notebooks/data_table.ipynb>data table notebook</a>'\n",
              "            + ' to learn more about interactive tables.';\n",
              "          element.innerHTML = '';\n",
              "          dataTable['output_type'] = 'display_data';\n",
              "          await google.colab.output.renderOutput(dataTable, element);\n",
              "          const docLink = document.createElement('div');\n",
              "          docLink.innerHTML = docLinkHtml;\n",
              "          element.appendChild(docLink);\n",
              "        }\n",
              "      </script>\n",
              "    </div>\n",
              "  </div>\n",
              "  "
            ]
          },
          "metadata": {},
          "execution_count": 143
        }
      ]
    },
    {
      "cell_type": "code",
      "source": [
        "# Extract dataset into X and y\n",
        "X = dataset.iloc[:, 1:-1]\n",
        "y = dataset.iloc[:, -1]\n",
        "\n",
        "# Scaling column 'Amount' to reduce its range\n",
        "X['Amount'] = np.log(X['Amount'] + 0.001)\n",
        "\n",
        "# Split dataset into train, validtion and test set\n",
        "X_train, X_test, y_train, y_test = train_test_split(X, y, test_size = 0.2, stratify = y)\n",
        "X_test = X_test.to_numpy()\n",
        "y_test = y_test.to_numpy()\n",
        "\n",
        "# X_train, X_val, y_train, y_val = train_test_split(X_train, y_train, test_size = 0.25, stratify = y_train)\n",
        "X_train = X_train.to_numpy()\n",
        "y_train = y_train.to_numpy()\n",
        "# X_val = X_val.to_numpy()\n",
        "# y_val = y_val.to_numpy()"
      ],
      "metadata": {
        "id": "2EbylAIqga6D"
      },
      "execution_count": null,
      "outputs": []
    },
    {
      "cell_type": "code",
      "source": [
        "print(\"Train set's features: \", X_train.shape)\n",
        "print(\"Train set's label: \", y_train.shape)\n",
        "print(\"Data distribution: \", Counter(y_train))\n",
        "# print(\"Validation set's features: \", X_val.shape)\n",
        "# print(\"Validation set's label: \", y_val.shape)\n",
        "print(\"Test set's features: \", X_test.shape)\n",
        "print(\"Test set's label: \", y_test.shape)\n",
        "print(\"Data distribution: \", Counter(y_test))"
      ],
      "metadata": {
        "id": "0gQASSJzZErT",
        "colab": {
          "base_uri": "https://localhost:8080/"
        },
        "outputId": "f9f79c82-fde9-4a05-b8d7-c262fd5af458"
      },
      "execution_count": null,
      "outputs": [
        {
          "output_type": "stream",
          "name": "stdout",
          "text": [
            "Train set's features:  (227845, 29)\n",
            "Train set's label:  (227845,)\n",
            "Data distribution:  Counter({0: 227451, 1: 394})\n",
            "Test set's features:  (56962, 29)\n",
            "Test set's label:  (56962,)\n",
            "Data distribution:  Counter({0: 56864, 1: 98})\n"
          ]
        }
      ]
    },
    {
      "cell_type": "markdown",
      "source": [
        "# <3> Define the model, choose the metrics, initialize weights"
      ],
      "metadata": {
        "id": "N0UTC0ynlpyC"
      }
    },
    {
      "cell_type": "code",
      "source": [
        "!pip install tensorflow-addons\n",
        "import tensorflow_addons as tfa\n",
        "from keras import backend as K"
      ],
      "metadata": {
        "id": "xV5cEZJboezq",
        "colab": {
          "base_uri": "https://localhost:8080/"
        },
        "outputId": "f40f9cb6-48e2-4645-c6ec-c2156d0cde6a"
      },
      "execution_count": null,
      "outputs": [
        {
          "output_type": "stream",
          "name": "stdout",
          "text": [
            "Requirement already satisfied: tensorflow-addons in /usr/local/lib/python3.7/dist-packages (0.16.1)\n",
            "Requirement already satisfied: typeguard>=2.7 in /usr/local/lib/python3.7/dist-packages (from tensorflow-addons) (2.7.1)\n"
          ]
        }
      ]
    },
    {
      "cell_type": "code",
      "source": [
        "def focal_loss_custom(alpha, gamma):\n",
        "    def binary_focal_loss(y_true, y_pred):\n",
        "        fl = tfa.losses.SigmoidFocalCrossEntropy(alpha=alpha, gamma=gamma)\n",
        "        y_true_K = K.ones_like(y_true)\n",
        "        focal_loss = fl(y_true, y_pred)\n",
        "        return focal_loss\n",
        "    return binary_focal_loss"
      ],
      "metadata": {
        "id": "Cw7NyAwmnbZ1"
      },
      "execution_count": null,
      "outputs": []
    },
    {
      "cell_type": "code",
      "source": [
        "# Choose epochs and batch_size, define early_stopping function\n",
        "EPOCHS = 100\n",
        "BATCH_SIZE = 64\n",
        "\n",
        "early_stopping = keras.callbacks.EarlyStopping(\n",
        "    monitor = 'val_prc', \n",
        "    verbose = 1,\n",
        "    patience = 20,\n",
        "    mode = 'max',\n",
        "    restore_best_weights = True)"
      ],
      "metadata": {
        "id": "uXo4r5_VIvXF"
      },
      "execution_count": null,
      "outputs": []
    },
    {
      "cell_type": "code",
      "source": [
        "METRICS = [\n",
        "    keras.metrics.TruePositives(name='tp'),\n",
        "    keras.metrics.FalsePositives(name='fp'),\n",
        "    keras.metrics.TrueNegatives(name='tn'),\n",
        "    keras.metrics.FalseNegatives(name='fn'), \n",
        "    # keras.metrics.BinaryAccuracy(name='accuracy'),\n",
        "    keras.metrics.Precision(name='precision'),\n",
        "    keras.metrics.Recall(name='recall'),\n",
        "    # keras.metrics.AUC(name='roc'),\n",
        "    keras.metrics.AUC(name='prc', curve='PR')\n",
        "]\n",
        "\n",
        "def build_model(metrics = METRICS):\n",
        "    model = keras.models.Sequential([\n",
        "        keras.layers.Dense(units = 16, activation = 'relu', input_shape = (X_train.shape[-1],)),\n",
        "        keras.layers.Dropout(rate = 0.2),\n",
        "        keras.layers.Dense(units = 1, activation = 'sigmoid')\n",
        "    ])\n",
        "\n",
        "    model.compile(\n",
        "        optimizer = keras.optimizers.Adam(learning_rate=1e-3),\n",
        "        loss = focal_loss_custom(alpha = 0.2, gamma = 2.0),\n",
        "        # loss = keras.losses.BinaryCrossentropy(),\n",
        "        metrics = metrics\n",
        "    )\n",
        "\n",
        "    return model"
      ],
      "metadata": {
        "id": "zIqWje8-luqp"
      },
      "execution_count": null,
      "outputs": []
    },
    {
      "cell_type": "code",
      "source": [
        "import tempfile\n",
        "import os"
      ],
      "metadata": {
        "id": "rzkP2-yRDrji"
      },
      "execution_count": null,
      "outputs": []
    },
    {
      "cell_type": "code",
      "source": [
        "# Checkpoint the initial weights\n",
        "initial_weights = os.path.join(tempfile.mkdtemp(), 'initial_weights')"
      ],
      "metadata": {
        "id": "uxjVZ80btby8"
      },
      "execution_count": null,
      "outputs": []
    },
    {
      "cell_type": "markdown",
      "source": [
        "#<4> Visualization functions"
      ],
      "metadata": {
        "id": "MDkFx7XqIsjz"
      }
    },
    {
      "cell_type": "code",
      "source": [
        "def plot_metrics(history, location):\n",
        "    metrics = ['loss', 'prc', 'precision', 'recall']\n",
        "    for n, metric in enumerate(metrics):\n",
        "        name = metric.replace(\"_\",\" \").capitalize()\n",
        "        plt.subplot(2,2,n+1)\n",
        "        plt.plot(history.epoch, history.history[metric], color=colors[n+1], label='Train')\n",
        "        plt.plot(history.epoch, history.history['val_'+metric], color=colors[n+1], linestyle=\"--\", label='Test')\n",
        "        plt.xlabel('Epoch')\n",
        "        plt.ylabel(name)\n",
        "        # if metric == 'loss':\n",
        "        #     plt.ylim([0, plt.ylim()[1]])\n",
        "        # elif metric == 'auc':\n",
        "        #     plt.ylim([2,1])\n",
        "        # else:\n",
        "        #     plt.ylim([0,1])\n",
        "\n",
        "        plt.legend();\n",
        "    plt.savefig(location)"
      ],
      "metadata": {
        "id": "HDvDu0T7vDWV"
      },
      "execution_count": null,
      "outputs": []
    },
    {
      "cell_type": "code",
      "source": [
        "def plot_cm(labels, predictions, location, p = 0.5):\n",
        "    cm = confusion_matrix(labels, predictions > p)\n",
        "    plt.figure(figsize=(5,5))\n",
        "    sns.heatmap(cm, annot=True, fmt=\"d\")\n",
        "    plt.title('Confusion matrix @{:.2f}'.format(p))\n",
        "    plt.ylabel('Actual label')\n",
        "    plt.xlabel('Predicted label')\n",
        "    plt.savefig(location)\n",
        "\n",
        "    print('Legitimate Transactions Detected (True Negatives): ', cm[0][0])\n",
        "    print('Legitimate Transactions Incorrectly Detected (False Positives): ', cm[0][1])\n",
        "    print('Fraudulent Transactions Missed (False Negatives): ', cm[1][0])\n",
        "    print('Fraudulent Transactions Detected (True Positives): ', cm[1][1])\n",
        "    print('Total Fraudulent Transactions: ', np.sum(cm[1]))"
      ],
      "metadata": {
        "id": "4v7qVblAiipO"
      },
      "execution_count": null,
      "outputs": []
    },
    {
      "cell_type": "code",
      "source": [
        "def plot_prc(name, labels, predictions, **kwargs):\n",
        "    precision, recall, thresholds = precision_recall_curve(labels, predictions)\n",
        "    f2_score = (5 * precision * recall) / (4 * precision + recall)\n",
        "    idx = np.argmax(f2_score)\n",
        "\n",
        "    plt.plot(precision, recall, label=name, linewidth=2, **kwargs)\n",
        "    plt.xlabel('Precision')\n",
        "    plt.ylabel('Recall')\n",
        "    plt.grid(True)\n",
        "    ax = plt.gca()\n",
        "    ax.set_aspect('equal')\n",
        "\n",
        "    return thresholds[idx]"
      ],
      "metadata": {
        "id": "WHQdozK6i5iP"
      },
      "execution_count": null,
      "outputs": []
    },
    {
      "cell_type": "markdown",
      "source": [
        "# <5> Training Model"
      ],
      "metadata": {
        "id": "hNzo9ZHybyF5"
      }
    },
    {
      "cell_type": "code",
      "source": [
        "model = build_model()\n",
        "model.save_weights(initial_weights)\n",
        "model.summary()"
      ],
      "metadata": {
        "id": "lNd7O68OYbXr",
        "colab": {
          "base_uri": "https://localhost:8080/"
        },
        "outputId": "a3bfa2a3-b00e-4258-afe6-5f822edd1190"
      },
      "execution_count": null,
      "outputs": [
        {
          "output_type": "stream",
          "name": "stdout",
          "text": [
            "Model: \"sequential_8\"\n",
            "_________________________________________________________________\n",
            " Layer (type)                Output Shape              Param #   \n",
            "=================================================================\n",
            " dense_16 (Dense)            (None, 16)                480       \n",
            "                                                                 \n",
            " dropout_8 (Dropout)         (None, 16)                0         \n",
            "                                                                 \n",
            " dense_17 (Dense)            (None, 1)                 17        \n",
            "                                                                 \n",
            "=================================================================\n",
            "Total params: 497\n",
            "Trainable params: 497\n",
            "Non-trainable params: 0\n",
            "_________________________________________________________________\n"
          ]
        }
      ]
    },
    {
      "cell_type": "code",
      "source": [
        "model.load_weights(initial_weights)\n",
        "baseline_history = model.fit(\n",
        "    X_train,\n",
        "    y_train,\n",
        "    batch_size = BATCH_SIZE,\n",
        "    epochs = EPOCHS,\n",
        "    callbacks = [early_stopping],\n",
        "    validation_data = (X_test, y_test))"
      ],
      "metadata": {
        "id": "limkK-PUwNFt",
        "colab": {
          "base_uri": "https://localhost:8080/"
        },
        "outputId": "fec50c91-c8d3-4e04-d230-ce38bd357e57"
      },
      "execution_count": null,
      "outputs": [
        {
          "output_type": "stream",
          "name": "stdout",
          "text": [
            "Epoch 1/100\n",
            "3561/3561 [==============================] - 19s 5ms/step - loss: 0.0049 - tp: 152.0000 - fp: 1491.0000 - tn: 225960.0000 - fn: 242.0000 - precision: 0.0925 - recall: 0.3858 - prc: 0.2220 - val_loss: 5.1349e-04 - val_tp: 57.0000 - val_fp: 8.0000 - val_tn: 56856.0000 - val_fn: 41.0000 - val_precision: 0.8769 - val_recall: 0.5816 - val_prc: 0.6832\n",
            "Epoch 2/100\n",
            "3561/3561 [==============================] - 22s 6ms/step - loss: 5.4769e-04 - tp: 157.0000 - fp: 26.0000 - tn: 227425.0000 - fn: 237.0000 - precision: 0.8579 - recall: 0.3985 - prc: 0.6424 - val_loss: 4.1462e-04 - val_tp: 47.0000 - val_fp: 1.0000 - val_tn: 56863.0000 - val_fn: 51.0000 - val_precision: 0.9792 - val_recall: 0.4796 - val_prc: 0.7829\n",
            "Epoch 3/100\n",
            "3561/3561 [==============================] - 11s 3ms/step - loss: 3.7578e-04 - tp: 168.0000 - fp: 15.0000 - tn: 227436.0000 - fn: 226.0000 - precision: 0.9180 - recall: 0.4264 - prc: 0.7455 - val_loss: 4.0240e-04 - val_tp: 63.0000 - val_fp: 5.0000 - val_tn: 56859.0000 - val_fn: 35.0000 - val_precision: 0.9265 - val_recall: 0.6429 - val_prc: 0.7790\n",
            "Epoch 4/100\n",
            "3561/3561 [==============================] - 10s 3ms/step - loss: 3.3973e-04 - tp: 178.0000 - fp: 15.0000 - tn: 227436.0000 - fn: 216.0000 - precision: 0.9223 - recall: 0.4518 - prc: 0.7712 - val_loss: 3.9593e-04 - val_tp: 66.0000 - val_fp: 6.0000 - val_tn: 56858.0000 - val_fn: 32.0000 - val_precision: 0.9167 - val_recall: 0.6735 - val_prc: 0.7777\n",
            "Epoch 5/100\n",
            "3561/3561 [==============================] - 9s 3ms/step - loss: 3.1801e-04 - tp: 157.0000 - fp: 13.0000 - tn: 227438.0000 - fn: 237.0000 - precision: 0.9235 - recall: 0.3985 - prc: 0.7685 - val_loss: 3.5890e-04 - val_tp: 54.0000 - val_fp: 3.0000 - val_tn: 56861.0000 - val_fn: 44.0000 - val_precision: 0.9474 - val_recall: 0.5510 - val_prc: 0.7936\n",
            "Epoch 6/100\n",
            "3561/3561 [==============================] - 11s 3ms/step - loss: 2.9754e-04 - tp: 169.0000 - fp: 14.0000 - tn: 227437.0000 - fn: 225.0000 - precision: 0.9235 - recall: 0.4289 - prc: 0.7803 - val_loss: 3.4952e-04 - val_tp: 55.0000 - val_fp: 3.0000 - val_tn: 56861.0000 - val_fn: 43.0000 - val_precision: 0.9483 - val_recall: 0.5612 - val_prc: 0.7913\n",
            "Epoch 7/100\n",
            "3561/3561 [==============================] - 9s 3ms/step - loss: 2.7996e-04 - tp: 178.0000 - fp: 15.0000 - tn: 227436.0000 - fn: 216.0000 - precision: 0.9223 - recall: 0.4518 - prc: 0.7935 - val_loss: 3.4427e-04 - val_tp: 42.0000 - val_fp: 0.0000e+00 - val_tn: 56864.0000 - val_fn: 56.0000 - val_precision: 1.0000 - val_recall: 0.4286 - val_prc: 0.8013\n",
            "Epoch 8/100\n",
            "3561/3561 [==============================] - 11s 3ms/step - loss: 2.7962e-04 - tp: 193.0000 - fp: 11.0000 - tn: 227440.0000 - fn: 201.0000 - precision: 0.9461 - recall: 0.4898 - prc: 0.8074 - val_loss: 3.3845e-04 - val_tp: 52.0000 - val_fp: 2.0000 - val_tn: 56862.0000 - val_fn: 46.0000 - val_precision: 0.9630 - val_recall: 0.5306 - val_prc: 0.8023\n",
            "Epoch 9/100\n",
            "3561/3561 [==============================] - 9s 3ms/step - loss: 2.6274e-04 - tp: 184.0000 - fp: 11.0000 - tn: 227440.0000 - fn: 210.0000 - precision: 0.9436 - recall: 0.4670 - prc: 0.8104 - val_loss: 3.3516e-04 - val_tp: 45.0000 - val_fp: 0.0000e+00 - val_tn: 56864.0000 - val_fn: 53.0000 - val_precision: 1.0000 - val_recall: 0.4592 - val_prc: 0.8075\n",
            "Epoch 10/100\n",
            "3561/3561 [==============================] - 10s 3ms/step - loss: 2.5362e-04 - tp: 182.0000 - fp: 13.0000 - tn: 227438.0000 - fn: 212.0000 - precision: 0.9333 - recall: 0.4619 - prc: 0.8197 - val_loss: 3.3485e-04 - val_tp: 56.0000 - val_fp: 2.0000 - val_tn: 56862.0000 - val_fn: 42.0000 - val_precision: 0.9655 - val_recall: 0.5714 - val_prc: 0.8058\n",
            "Epoch 11/100\n",
            "3561/3561 [==============================] - 11s 3ms/step - loss: 2.5156e-04 - tp: 216.0000 - fp: 9.0000 - tn: 227442.0000 - fn: 178.0000 - precision: 0.9600 - recall: 0.5482 - prc: 0.8285 - val_loss: 3.2688e-04 - val_tp: 54.0000 - val_fp: 2.0000 - val_tn: 56862.0000 - val_fn: 44.0000 - val_precision: 0.9643 - val_recall: 0.5510 - val_prc: 0.8067\n",
            "Epoch 12/100\n",
            "3561/3561 [==============================] - 13s 4ms/step - loss: 2.5404e-04 - tp: 193.0000 - fp: 13.0000 - tn: 227438.0000 - fn: 201.0000 - precision: 0.9369 - recall: 0.4898 - prc: 0.8259 - val_loss: 3.5672e-04 - val_tp: 43.0000 - val_fp: 0.0000e+00 - val_tn: 56864.0000 - val_fn: 55.0000 - val_precision: 1.0000 - val_recall: 0.4388 - val_prc: 0.8043\n",
            "Epoch 13/100\n",
            "3561/3561 [==============================] - 11s 3ms/step - loss: 2.5062e-04 - tp: 202.0000 - fp: 10.0000 - tn: 227441.0000 - fn: 192.0000 - precision: 0.9528 - recall: 0.5127 - prc: 0.8175 - val_loss: 3.2678e-04 - val_tp: 54.0000 - val_fp: 3.0000 - val_tn: 56861.0000 - val_fn: 44.0000 - val_precision: 0.9474 - val_recall: 0.5510 - val_prc: 0.8097\n",
            "Epoch 14/100\n",
            "3561/3561 [==============================] - 11s 3ms/step - loss: 2.4165e-04 - tp: 217.0000 - fp: 11.0000 - tn: 227440.0000 - fn: 177.0000 - precision: 0.9518 - recall: 0.5508 - prc: 0.8351 - val_loss: 3.3032e-04 - val_tp: 61.0000 - val_fp: 4.0000 - val_tn: 56860.0000 - val_fn: 37.0000 - val_precision: 0.9385 - val_recall: 0.6224 - val_prc: 0.8147\n",
            "Epoch 15/100\n",
            "3561/3561 [==============================] - 9s 3ms/step - loss: 2.4732e-04 - tp: 207.0000 - fp: 9.0000 - tn: 227442.0000 - fn: 187.0000 - precision: 0.9583 - recall: 0.5254 - prc: 0.8324 - val_loss: 3.4137e-04 - val_tp: 51.0000 - val_fp: 1.0000 - val_tn: 56863.0000 - val_fn: 47.0000 - val_precision: 0.9808 - val_recall: 0.5204 - val_prc: 0.8101\n",
            "Epoch 16/100\n",
            "3561/3561 [==============================] - 10s 3ms/step - loss: 2.3236e-04 - tp: 219.0000 - fp: 12.0000 - tn: 227439.0000 - fn: 175.0000 - precision: 0.9481 - recall: 0.5558 - prc: 0.8396 - val_loss: 3.4579e-04 - val_tp: 56.0000 - val_fp: 3.0000 - val_tn: 56861.0000 - val_fn: 42.0000 - val_precision: 0.9492 - val_recall: 0.5714 - val_prc: 0.8027\n",
            "Epoch 17/100\n",
            "3561/3561 [==============================] - 10s 3ms/step - loss: 2.3138e-04 - tp: 214.0000 - fp: 10.0000 - tn: 227441.0000 - fn: 180.0000 - precision: 0.9554 - recall: 0.5431 - prc: 0.8425 - val_loss: 3.2047e-04 - val_tp: 59.0000 - val_fp: 2.0000 - val_tn: 56862.0000 - val_fn: 39.0000 - val_precision: 0.9672 - val_recall: 0.6020 - val_prc: 0.8072\n",
            "Epoch 18/100\n",
            "3561/3561 [==============================] - 9s 3ms/step - loss: 2.3946e-04 - tp: 201.0000 - fp: 9.0000 - tn: 227442.0000 - fn: 193.0000 - precision: 0.9571 - recall: 0.5102 - prc: 0.8413 - val_loss: 3.2625e-04 - val_tp: 58.0000 - val_fp: 3.0000 - val_tn: 56861.0000 - val_fn: 40.0000 - val_precision: 0.9508 - val_recall: 0.5918 - val_prc: 0.8140\n",
            "Epoch 19/100\n",
            "3561/3561 [==============================] - 10s 3ms/step - loss: 2.3116e-04 - tp: 220.0000 - fp: 13.0000 - tn: 227438.0000 - fn: 174.0000 - precision: 0.9442 - recall: 0.5584 - prc: 0.8430 - val_loss: 3.3622e-04 - val_tp: 50.0000 - val_fp: 1.0000 - val_tn: 56863.0000 - val_fn: 48.0000 - val_precision: 0.9804 - val_recall: 0.5102 - val_prc: 0.8153\n",
            "Epoch 20/100\n",
            "3561/3561 [==============================] - 9s 3ms/step - loss: 2.3003e-04 - tp: 221.0000 - fp: 9.0000 - tn: 227442.0000 - fn: 173.0000 - precision: 0.9609 - recall: 0.5609 - prc: 0.8442 - val_loss: 3.6764e-04 - val_tp: 42.0000 - val_fp: 0.0000e+00 - val_tn: 56864.0000 - val_fn: 56.0000 - val_precision: 1.0000 - val_recall: 0.4286 - val_prc: 0.8092\n",
            "Epoch 21/100\n",
            "3561/3561 [==============================] - 11s 3ms/step - loss: 2.2320e-04 - tp: 228.0000 - fp: 10.0000 - tn: 227441.0000 - fn: 166.0000 - precision: 0.9580 - recall: 0.5787 - prc: 0.8495 - val_loss: 3.4187e-04 - val_tp: 54.0000 - val_fp: 1.0000 - val_tn: 56863.0000 - val_fn: 44.0000 - val_precision: 0.9818 - val_recall: 0.5510 - val_prc: 0.8187\n",
            "Epoch 22/100\n",
            "3561/3561 [==============================] - 10s 3ms/step - loss: 2.1886e-04 - tp: 227.0000 - fp: 15.0000 - tn: 227436.0000 - fn: 167.0000 - precision: 0.9380 - recall: 0.5761 - prc: 0.8480 - val_loss: 3.6467e-04 - val_tp: 41.0000 - val_fp: 0.0000e+00 - val_tn: 56864.0000 - val_fn: 57.0000 - val_precision: 1.0000 - val_recall: 0.4184 - val_prc: 0.8096\n",
            "Epoch 23/100\n",
            "3561/3561 [==============================] - 11s 3ms/step - loss: 2.2779e-04 - tp: 214.0000 - fp: 11.0000 - tn: 227440.0000 - fn: 180.0000 - precision: 0.9511 - recall: 0.5431 - prc: 0.8460 - val_loss: 3.3923e-04 - val_tp: 53.0000 - val_fp: 0.0000e+00 - val_tn: 56864.0000 - val_fn: 45.0000 - val_precision: 1.0000 - val_recall: 0.5408 - val_prc: 0.8126\n",
            "Epoch 24/100\n",
            "3561/3561 [==============================] - 11s 3ms/step - loss: 2.2647e-04 - tp: 217.0000 - fp: 6.0000 - tn: 227445.0000 - fn: 177.0000 - precision: 0.9731 - recall: 0.5508 - prc: 0.8508 - val_loss: 3.3450e-04 - val_tp: 59.0000 - val_fp: 2.0000 - val_tn: 56862.0000 - val_fn: 39.0000 - val_precision: 0.9672 - val_recall: 0.6020 - val_prc: 0.8061\n",
            "Epoch 25/100\n",
            "3561/3561 [==============================] - 10s 3ms/step - loss: 2.2116e-04 - tp: 237.0000 - fp: 13.0000 - tn: 227438.0000 - fn: 157.0000 - precision: 0.9480 - recall: 0.6015 - prc: 0.8550 - val_loss: 3.4548e-04 - val_tp: 59.0000 - val_fp: 2.0000 - val_tn: 56862.0000 - val_fn: 39.0000 - val_precision: 0.9672 - val_recall: 0.6020 - val_prc: 0.8079\n",
            "Epoch 26/100\n",
            "3561/3561 [==============================] - 10s 3ms/step - loss: 2.2857e-04 - tp: 234.0000 - fp: 13.0000 - tn: 227438.0000 - fn: 160.0000 - precision: 0.9474 - recall: 0.5939 - prc: 0.8459 - val_loss: 3.6066e-04 - val_tp: 43.0000 - val_fp: 0.0000e+00 - val_tn: 56864.0000 - val_fn: 55.0000 - val_precision: 1.0000 - val_recall: 0.4388 - val_prc: 0.8150\n",
            "Epoch 27/100\n",
            "3561/3561 [==============================] - 10s 3ms/step - loss: 2.3008e-04 - tp: 231.0000 - fp: 9.0000 - tn: 227442.0000 - fn: 163.0000 - precision: 0.9625 - recall: 0.5863 - prc: 0.8459 - val_loss: 3.3483e-04 - val_tp: 56.0000 - val_fp: 3.0000 - val_tn: 56861.0000 - val_fn: 42.0000 - val_precision: 0.9492 - val_recall: 0.5714 - val_prc: 0.8114\n",
            "Epoch 28/100\n",
            "3561/3561 [==============================] - 11s 3ms/step - loss: 2.2407e-04 - tp: 222.0000 - fp: 13.0000 - tn: 227438.0000 - fn: 172.0000 - precision: 0.9447 - recall: 0.5635 - prc: 0.8467 - val_loss: 3.5521e-04 - val_tp: 55.0000 - val_fp: 1.0000 - val_tn: 56863.0000 - val_fn: 43.0000 - val_precision: 0.9821 - val_recall: 0.5612 - val_prc: 0.8160\n",
            "Epoch 29/100\n",
            "3561/3561 [==============================] - 10s 3ms/step - loss: 2.2965e-04 - tp: 227.0000 - fp: 15.0000 - tn: 227436.0000 - fn: 167.0000 - precision: 0.9380 - recall: 0.5761 - prc: 0.8434 - val_loss: 3.5449e-04 - val_tp: 52.0000 - val_fp: 1.0000 - val_tn: 56863.0000 - val_fn: 46.0000 - val_precision: 0.9811 - val_recall: 0.5306 - val_prc: 0.8140\n",
            "Epoch 30/100\n",
            "3561/3561 [==============================] - 10s 3ms/step - loss: 2.2382e-04 - tp: 226.0000 - fp: 9.0000 - tn: 227442.0000 - fn: 168.0000 - precision: 0.9617 - recall: 0.5736 - prc: 0.8512 - val_loss: 3.4523e-04 - val_tp: 55.0000 - val_fp: 2.0000 - val_tn: 56862.0000 - val_fn: 43.0000 - val_precision: 0.9649 - val_recall: 0.5612 - val_prc: 0.8161\n",
            "Epoch 31/100\n",
            "3561/3561 [==============================] - 10s 3ms/step - loss: 2.1186e-04 - tp: 221.0000 - fp: 10.0000 - tn: 227441.0000 - fn: 173.0000 - precision: 0.9567 - recall: 0.5609 - prc: 0.8574 - val_loss: 3.6968e-04 - val_tp: 53.0000 - val_fp: 0.0000e+00 - val_tn: 56864.0000 - val_fn: 45.0000 - val_precision: 1.0000 - val_recall: 0.5408 - val_prc: 0.8160\n",
            "Epoch 32/100\n",
            "3561/3561 [==============================] - 9s 3ms/step - loss: 2.1915e-04 - tp: 226.0000 - fp: 8.0000 - tn: 227443.0000 - fn: 168.0000 - precision: 0.9658 - recall: 0.5736 - prc: 0.8546 - val_loss: 3.6576e-04 - val_tp: 53.0000 - val_fp: 0.0000e+00 - val_tn: 56864.0000 - val_fn: 45.0000 - val_precision: 1.0000 - val_recall: 0.5408 - val_prc: 0.8161\n",
            "Epoch 33/100\n",
            "3561/3561 [==============================] - 10s 3ms/step - loss: 2.1470e-04 - tp: 231.0000 - fp: 8.0000 - tn: 227443.0000 - fn: 163.0000 - precision: 0.9665 - recall: 0.5863 - prc: 0.8553 - val_loss: 3.6847e-04 - val_tp: 57.0000 - val_fp: 4.0000 - val_tn: 56860.0000 - val_fn: 41.0000 - val_precision: 0.9344 - val_recall: 0.5816 - val_prc: 0.7979\n",
            "Epoch 34/100\n",
            "3561/3561 [==============================] - 10s 3ms/step - loss: 2.1545e-04 - tp: 247.0000 - fp: 8.0000 - tn: 227443.0000 - fn: 147.0000 - precision: 0.9686 - recall: 0.6269 - prc: 0.8548 - val_loss: 3.4647e-04 - val_tp: 54.0000 - val_fp: 1.0000 - val_tn: 56863.0000 - val_fn: 44.0000 - val_precision: 0.9818 - val_recall: 0.5510 - val_prc: 0.8228\n",
            "Epoch 35/100\n",
            "3561/3561 [==============================] - 10s 3ms/step - loss: 2.1685e-04 - tp: 236.0000 - fp: 10.0000 - tn: 227441.0000 - fn: 158.0000 - precision: 0.9593 - recall: 0.5990 - prc: 0.8554 - val_loss: 3.6931e-04 - val_tp: 44.0000 - val_fp: 0.0000e+00 - val_tn: 56864.0000 - val_fn: 54.0000 - val_precision: 1.0000 - val_recall: 0.4490 - val_prc: 0.8178\n",
            "Epoch 36/100\n",
            "3561/3561 [==============================] - 11s 3ms/step - loss: 2.0334e-04 - tp: 227.0000 - fp: 10.0000 - tn: 227441.0000 - fn: 167.0000 - precision: 0.9578 - recall: 0.5761 - prc: 0.8698 - val_loss: 3.6897e-04 - val_tp: 52.0000 - val_fp: 0.0000e+00 - val_tn: 56864.0000 - val_fn: 46.0000 - val_precision: 1.0000 - val_recall: 0.5306 - val_prc: 0.8179\n",
            "Epoch 37/100\n",
            "3561/3561 [==============================] - 11s 3ms/step - loss: 2.1035e-04 - tp: 236.0000 - fp: 9.0000 - tn: 227442.0000 - fn: 158.0000 - precision: 0.9633 - recall: 0.5990 - prc: 0.8578 - val_loss: 3.6565e-04 - val_tp: 58.0000 - val_fp: 2.0000 - val_tn: 56862.0000 - val_fn: 40.0000 - val_precision: 0.9667 - val_recall: 0.5918 - val_prc: 0.8101\n",
            "Epoch 38/100\n",
            "3561/3561 [==============================] - 10s 3ms/step - loss: 2.1377e-04 - tp: 227.0000 - fp: 11.0000 - tn: 227440.0000 - fn: 167.0000 - precision: 0.9538 - recall: 0.5761 - prc: 0.8609 - val_loss: 3.6820e-04 - val_tp: 59.0000 - val_fp: 2.0000 - val_tn: 56862.0000 - val_fn: 39.0000 - val_precision: 0.9672 - val_recall: 0.6020 - val_prc: 0.8190\n",
            "Epoch 39/100\n",
            "3561/3561 [==============================] - 10s 3ms/step - loss: 2.1380e-04 - tp: 234.0000 - fp: 12.0000 - tn: 227439.0000 - fn: 160.0000 - precision: 0.9512 - recall: 0.5939 - prc: 0.8600 - val_loss: 3.6297e-04 - val_tp: 65.0000 - val_fp: 4.0000 - val_tn: 56860.0000 - val_fn: 33.0000 - val_precision: 0.9420 - val_recall: 0.6633 - val_prc: 0.8093\n",
            "Epoch 40/100\n",
            "3561/3561 [==============================] - 10s 3ms/step - loss: 2.0584e-04 - tp: 243.0000 - fp: 10.0000 - tn: 227441.0000 - fn: 151.0000 - precision: 0.9605 - recall: 0.6168 - prc: 0.8632 - val_loss: 3.6768e-04 - val_tp: 60.0000 - val_fp: 2.0000 - val_tn: 56862.0000 - val_fn: 38.0000 - val_precision: 0.9677 - val_recall: 0.6122 - val_prc: 0.8176\n",
            "Epoch 41/100\n",
            "3561/3561 [==============================] - 10s 3ms/step - loss: 2.2000e-04 - tp: 222.0000 - fp: 14.0000 - tn: 227437.0000 - fn: 172.0000 - precision: 0.9407 - recall: 0.5635 - prc: 0.8484 - val_loss: 3.7749e-04 - val_tp: 54.0000 - val_fp: 3.0000 - val_tn: 56861.0000 - val_fn: 44.0000 - val_precision: 0.9474 - val_recall: 0.5510 - val_prc: 0.8100\n",
            "Epoch 42/100\n",
            "3561/3561 [==============================] - 10s 3ms/step - loss: 2.1260e-04 - tp: 232.0000 - fp: 13.0000 - tn: 227438.0000 - fn: 162.0000 - precision: 0.9469 - recall: 0.5888 - prc: 0.8544 - val_loss: 3.7727e-04 - val_tp: 48.0000 - val_fp: 0.0000e+00 - val_tn: 56864.0000 - val_fn: 50.0000 - val_precision: 1.0000 - val_recall: 0.4898 - val_prc: 0.8165\n",
            "Epoch 43/100\n",
            "3561/3561 [==============================] - 11s 3ms/step - loss: 2.3310e-04 - tp: 217.0000 - fp: 8.0000 - tn: 227443.0000 - fn: 177.0000 - precision: 0.9644 - recall: 0.5508 - prc: 0.8531 - val_loss: 3.8011e-04 - val_tp: 59.0000 - val_fp: 1.0000 - val_tn: 56863.0000 - val_fn: 39.0000 - val_precision: 0.9833 - val_recall: 0.6020 - val_prc: 0.8139\n",
            "Epoch 44/100\n",
            "3561/3561 [==============================] - 11s 3ms/step - loss: 2.0706e-04 - tp: 228.0000 - fp: 6.0000 - tn: 227445.0000 - fn: 166.0000 - precision: 0.9744 - recall: 0.5787 - prc: 0.8625 - val_loss: 3.6857e-04 - val_tp: 65.0000 - val_fp: 4.0000 - val_tn: 56860.0000 - val_fn: 33.0000 - val_precision: 0.9420 - val_recall: 0.6633 - val_prc: 0.8123\n",
            "Epoch 45/100\n",
            "3561/3561 [==============================] - 10s 3ms/step - loss: 2.1054e-04 - tp: 228.0000 - fp: 13.0000 - tn: 227438.0000 - fn: 166.0000 - precision: 0.9461 - recall: 0.5787 - prc: 0.8629 - val_loss: 3.7585e-04 - val_tp: 57.0000 - val_fp: 3.0000 - val_tn: 56861.0000 - val_fn: 41.0000 - val_precision: 0.9500 - val_recall: 0.5816 - val_prc: 0.8138\n",
            "Epoch 46/100\n",
            "3561/3561 [==============================] - 10s 3ms/step - loss: 2.0241e-04 - tp: 236.0000 - fp: 8.0000 - tn: 227443.0000 - fn: 158.0000 - precision: 0.9672 - recall: 0.5990 - prc: 0.8671 - val_loss: 3.8178e-04 - val_tp: 63.0000 - val_fp: 4.0000 - val_tn: 56860.0000 - val_fn: 35.0000 - val_precision: 0.9403 - val_recall: 0.6429 - val_prc: 0.8101\n",
            "Epoch 47/100\n",
            "3561/3561 [==============================] - 11s 3ms/step - loss: 2.0211e-04 - tp: 247.0000 - fp: 8.0000 - tn: 227443.0000 - fn: 147.0000 - precision: 0.9686 - recall: 0.6269 - prc: 0.8639 - val_loss: 3.9079e-04 - val_tp: 65.0000 - val_fp: 3.0000 - val_tn: 56861.0000 - val_fn: 33.0000 - val_precision: 0.9559 - val_recall: 0.6633 - val_prc: 0.8117\n",
            "Epoch 48/100\n",
            "3561/3561 [==============================] - 10s 3ms/step - loss: 2.1019e-04 - tp: 237.0000 - fp: 11.0000 - tn: 227440.0000 - fn: 157.0000 - precision: 0.9556 - recall: 0.6015 - prc: 0.8570 - val_loss: 3.7299e-04 - val_tp: 57.0000 - val_fp: 1.0000 - val_tn: 56863.0000 - val_fn: 41.0000 - val_precision: 0.9828 - val_recall: 0.5816 - val_prc: 0.8111\n",
            "Epoch 49/100\n",
            "3561/3561 [==============================] - 10s 3ms/step - loss: 2.1151e-04 - tp: 219.0000 - fp: 8.0000 - tn: 227443.0000 - fn: 175.0000 - precision: 0.9648 - recall: 0.5558 - prc: 0.8580 - val_loss: 3.6652e-04 - val_tp: 60.0000 - val_fp: 1.0000 - val_tn: 56863.0000 - val_fn: 38.0000 - val_precision: 0.9836 - val_recall: 0.6122 - val_prc: 0.8122\n",
            "Epoch 50/100\n",
            "3561/3561 [==============================] - 10s 3ms/step - loss: 2.0442e-04 - tp: 229.0000 - fp: 10.0000 - tn: 227441.0000 - fn: 165.0000 - precision: 0.9582 - recall: 0.5812 - prc: 0.8612 - val_loss: 3.8710e-04 - val_tp: 61.0000 - val_fp: 3.0000 - val_tn: 56861.0000 - val_fn: 37.0000 - val_precision: 0.9531 - val_recall: 0.6224 - val_prc: 0.8168\n",
            "Epoch 51/100\n",
            "3561/3561 [==============================] - 11s 3ms/step - loss: 2.0110e-04 - tp: 234.0000 - fp: 8.0000 - tn: 227443.0000 - fn: 160.0000 - precision: 0.9669 - recall: 0.5939 - prc: 0.8695 - val_loss: 3.7420e-04 - val_tp: 61.0000 - val_fp: 4.0000 - val_tn: 56860.0000 - val_fn: 37.0000 - val_precision: 0.9385 - val_recall: 0.6224 - val_prc: 0.8128\n",
            "Epoch 52/100\n",
            "3561/3561 [==============================] - 11s 3ms/step - loss: 2.0228e-04 - tp: 243.0000 - fp: 6.0000 - tn: 227445.0000 - fn: 151.0000 - precision: 0.9759 - recall: 0.6168 - prc: 0.8653 - val_loss: 3.8818e-04 - val_tp: 63.0000 - val_fp: 3.0000 - val_tn: 56861.0000 - val_fn: 35.0000 - val_precision: 0.9545 - val_recall: 0.6429 - val_prc: 0.8121\n",
            "Epoch 53/100\n",
            "3561/3561 [==============================] - 10s 3ms/step - loss: 2.0917e-04 - tp: 223.0000 - fp: 9.0000 - tn: 227442.0000 - fn: 171.0000 - precision: 0.9612 - recall: 0.5660 - prc: 0.8593 - val_loss: 3.9742e-04 - val_tp: 60.0000 - val_fp: 2.0000 - val_tn: 56862.0000 - val_fn: 38.0000 - val_precision: 0.9677 - val_recall: 0.6122 - val_prc: 0.8115\n",
            "Epoch 54/100\n",
            "3554/3561 [============================>.] - ETA: 0s - loss: 1.9825e-04 - tp: 249.0000 - fp: 8.0000 - tn: 227054.0000 - fn: 145.0000 - precision: 0.9689 - recall: 0.6320 - prc: 0.8672Restoring model weights from the end of the best epoch: 34.\n",
            "3561/3561 [==============================] - 10s 3ms/step - loss: 1.9800e-04 - tp: 249.0000 - fp: 8.0000 - tn: 227443.0000 - fn: 145.0000 - precision: 0.9689 - recall: 0.6320 - prc: 0.8672 - val_loss: 3.8647e-04 - val_tp: 58.0000 - val_fp: 2.0000 - val_tn: 56862.0000 - val_fn: 40.0000 - val_precision: 0.9667 - val_recall: 0.5918 - val_prc: 0.8131\n",
            "Epoch 54: early stopping\n"
          ]
        }
      ]
    },
    {
      "cell_type": "code",
      "source": [
        "model.save('model.h5')"
      ],
      "metadata": {
        "id": "SVZoYbsU9R_N"
      },
      "execution_count": null,
      "outputs": []
    },
    {
      "cell_type": "code",
      "source": [
        "plot_metrics(baseline_history, 'metrics')"
      ],
      "metadata": {
        "colab": {
          "base_uri": "https://localhost:8080/",
          "height": 279
        },
        "id": "m26PtIK-kNlg",
        "outputId": "c26537b1-5f5b-404d-e59b-eeb8ab7ece3a"
      },
      "execution_count": null,
      "outputs": [
        {
          "output_type": "display_data",
          "data": {
            "text/plain": [
              "<Figure size 432x288 with 4 Axes>"
            ],
            "image/png": "[encoded data removed]"
          },
          "metadata": {
            "needs_background": "light"
          }
        }
      ]
    },
    {
      "cell_type": "code",
      "source": [
        "train_predictions_baseline = model.predict(X_train, batch_size=BATCH_SIZE)\n",
        "test_predictions_baseline = model.predict(X_test, batch_size=BATCH_SIZE)"
      ],
      "metadata": {
        "id": "AYMzUQvSoBTv"
      },
      "execution_count": null,
      "outputs": []
    },
    {
      "cell_type": "code",
      "source": [
        "baseline_results = model.evaluate(X_test, y_test, batch_size=BATCH_SIZE, verbose=0)\n",
        "for name, value in zip(model.metrics_names, baseline_results):\n",
        "    print(name, ': ', value)\n",
        "\n",
        "print()\n",
        "plot_cm(y_test, test_predictions_baseline, 'confusion_matrix')"
      ],
      "metadata": {
        "colab": {
          "base_uri": "https://localhost:8080/",
          "height": 593
        },
        "id": "WfXksJKwoZeO",
        "outputId": "2950f405-e6b3-4fa0-d9c0-e675f4a0fd60"
      },
      "execution_count": null,
      "outputs": [
        {
          "output_type": "stream",
          "name": "stdout",
          "text": [
            "loss :  0.00034646803396753967\n",
            "tp :  54.0\n",
            "fp :  1.0\n",
            "tn :  56863.0\n",
            "fn :  44.0\n",
            "precision :  0.9818181991577148\n",
            "recall :  0.5510203838348389\n",
            "prc :  0.822812557220459\n",
            "\n",
            "Legitimate Transactions Detected (True Negatives):  56863\n",
            "Legitimate Transactions Incorrectly Detected (False Positives):  1\n",
            "Fraudulent Transactions Missed (False Negatives):  44\n",
            "Fraudulent Transactions Detected (True Positives):  54\n",
            "Total Fraudulent Transactions:  98\n"
          ]
        },
        {
          "output_type": "display_data",
          "data": {
            "text/plain": [
              "<Figure size 360x360 with 2 Axes>"
            ],
            "image/png": "[encoded data removed]"
          },
          "metadata": {
            "needs_background": "light"
          }
        }
      ]
    },
    {
      "cell_type": "code",
      "source": [
        "threshold = plot_prc(\"Train Baseline\", y_train, train_predictions_baseline, color=colors[0])\n",
        "plot_prc(\"Test Baseline\", y_test, test_predictions_baseline, color=colors[0], linestyle='--')\n",
        "plt.legend(loc='lower left');\n",
        "plt.savefig('auprc')"
      ],
      "metadata": {
        "colab": {
          "base_uri": "https://localhost:8080/",
          "height": 279
        },
        "id": "v-Ab1mTQpCW8",
        "outputId": "29eb12e2-8df6-4cf0-a0e7-6b11c29088d0"
      },
      "execution_count": null,
      "outputs": [
        {
          "output_type": "display_data",
          "data": {
            "text/plain": [
              "<Figure size 432x288 with 1 Axes>"
            ],
            "image/png": "[encoded data removed]"
          },
          "metadata": {
            "needs_background": "light"
          }
        }
      ]
    },
    {
      "cell_type": "code",
      "source": [
        "plot_cm(y_test, test_predictions_baseline, 'confusion_matrix_threshold', p = threshold)"
      ],
      "metadata": {
        "colab": {
          "base_uri": "https://localhost:8080/",
          "height": 437
        },
        "id": "meslIYQ7wb1f",
        "outputId": "f3f8da9d-92c4-428d-bffe-cf9a8139cb76"
      },
      "execution_count": null,
      "outputs": [
        {
          "output_type": "stream",
          "name": "stdout",
          "text": [
            "Legitimate Transactions Detected (True Negatives):  56848\n",
            "Legitimate Transactions Incorrectly Detected (False Positives):  16\n",
            "Fraudulent Transactions Missed (False Negatives):  19\n",
            "Fraudulent Transactions Detected (True Positives):  79\n",
            "Total Fraudulent Transactions:  98\n"
          ]
        },
        {
          "output_type": "display_data",
          "data": {
            "text/plain": [
              "<Figure size 360x360 with 2 Axes>"
            ],
            "image/png": "[encoded data removed]"
          },
          "metadata": {
            "needs_background": "light"
          }
        }
      ]
    },
    {
      "cell_type": "markdown",
      "source": [
        "# <6> Sampling moethod: SMOTE"
      ],
      "metadata": {
        "id": "DDNvVVRC9lxj"
      }
    },
    {
      "cell_type": "code",
      "source": [
        "!pip install imbalanced-learn\n",
        "import imblearn\n",
        "print(imblearn.__version__)"
      ],
      "metadata": {
        "id": "ZCmMaQ0yC0it",
        "colab": {
          "base_uri": "https://localhost:8080/"
        },
        "outputId": "b914ae6b-6b04-4732-c749-a2cffdea8fa1"
      },
      "execution_count": null,
      "outputs": [
        {
          "output_type": "stream",
          "name": "stdout",
          "text": [
            "Requirement already satisfied: imbalanced-learn in /usr/local/lib/python3.7/dist-packages (0.8.1)\n",
            "Requirement already satisfied: scikit-learn>=0.24 in /usr/local/lib/python3.7/dist-packages (from imbalanced-learn) (1.0.2)\n",
            "Requirement already satisfied: scipy>=0.19.1 in /usr/local/lib/python3.7/dist-packages (from imbalanced-learn) (1.4.1)\n",
            "Requirement already satisfied: joblib>=0.11 in /usr/local/lib/python3.7/dist-packages (from imbalanced-learn) (1.1.0)\n",
            "Requirement already satisfied: numpy>=1.13.3 in /usr/local/lib/python3.7/dist-packages (from imbalanced-learn) (1.21.6)\n",
            "Requirement already satisfied: threadpoolctl>=2.0.0 in /usr/local/lib/python3.7/dist-packages (from scikit-learn>=0.24->imbalanced-learn) (3.1.0)\n",
            "0.8.1\n"
          ]
        }
      ]
    },
    {
      "cell_type": "code",
      "source": [
        "from imblearn.over_sampling import SMOTE\n",
        "from imblearn.under_sampling import RandomUnderSampler\n",
        "from imblearn.pipeline import Pipeline\n",
        "over = SMOTE(sampling_strategy=0.1)\n",
        "under = RandomUnderSampler(sampling_strategy=0.5)\n",
        "steps = [('o', over), ('u', under)]\n",
        "pipeline = Pipeline(steps=steps)\n",
        "X_train_SMOTE, y_train_SMOTE = pipeline.fit_resample(X_train, y_train)\n",
        "print(\"After applying SMOTE:\")\n",
        "print(\"Train set's features: \", X_train_SMOTE.shape)\n",
        "print(\"Train set's label: \", y_train_SMOTE.shape)\n",
        "print(\"Data distribution: \", Counter(y_train_SMOTE))"
      ],
      "metadata": {
        "colab": {
          "base_uri": "https://localhost:8080/"
        },
        "id": "ixY83RkdEVjI",
        "outputId": "f227910c-95d2-434e-bdee-416434a66204"
      },
      "execution_count": null,
      "outputs": [
        {
          "output_type": "stream",
          "name": "stdout",
          "text": [
            "After applying SMOTE:\n",
            "Train set's features:  (68235, 29)\n",
            "Train set's label:  (68235,)\n",
            "Data distribution:  Counter({0: 45490, 1: 22745})\n"
          ]
        }
      ]
    },
    {
      "cell_type": "code",
      "source": [
        "model.load_weights(initial_weights)\n",
        "baseline_SMOTE_history = model.fit(\n",
        "    X_train_SMOTE,\n",
        "    y_train_SMOTE,\n",
        "    batch_size = BATCH_SIZE,\n",
        "    epochs = EPOCHS,\n",
        "    callbacks = [early_stopping],\n",
        "    validation_data = (X_test, y_test))"
      ],
      "metadata": {
        "colab": {
          "base_uri": "https://localhost:8080/"
        },
        "id": "4YQa-b_pZVc6",
        "outputId": "30e17ed1-4d25-4af7-f7ef-2b7a37ab3068"
      },
      "execution_count": null,
      "outputs": [
        {
          "output_type": "stream",
          "name": "stdout",
          "text": [
            "Epoch 1/100\n",
            "1067/1067 [==============================] - 5s 4ms/step - loss: 0.0133 - tp: 19764.0000 - fp: 417.0000 - tn: 45073.0000 - fn: 2981.0000 - precision: 0.9793 - recall: 0.8689 - prc: 0.9786 - val_loss: 0.0035 - val_tp: 81.0000 - val_fp: 102.0000 - val_tn: 56762.0000 - val_fn: 17.0000 - val_precision: 0.4426 - val_recall: 0.8265 - val_prc: 0.7504\n",
            "Epoch 2/100\n",
            "1067/1067 [==============================] - 4s 4ms/step - loss: 0.0075 - tp: 20200.0000 - fp: 159.0000 - tn: 45331.0000 - fn: 2545.0000 - precision: 0.9922 - recall: 0.8881 - prc: 0.9927 - val_loss: 0.0027 - val_tp: 82.0000 - val_fp: 83.0000 - val_tn: 56781.0000 - val_fn: 16.0000 - val_precision: 0.4970 - val_recall: 0.8367 - val_prc: 0.7776\n",
            "Epoch 3/100\n",
            "1067/1067 [==============================] - 4s 4ms/step - loss: 0.0063 - tp: 20514.0000 - fp: 158.0000 - tn: 45332.0000 - fn: 2231.0000 - precision: 0.9924 - recall: 0.9019 - prc: 0.9950 - val_loss: 0.0024 - val_tp: 82.0000 - val_fp: 96.0000 - val_tn: 56768.0000 - val_fn: 16.0000 - val_precision: 0.4607 - val_recall: 0.8367 - val_prc: 0.7744\n",
            "Epoch 4/100\n",
            "1067/1067 [==============================] - 6s 6ms/step - loss: 0.0056 - tp: 20752.0000 - fp: 179.0000 - tn: 45311.0000 - fn: 1993.0000 - precision: 0.9914 - recall: 0.9124 - prc: 0.9961 - val_loss: 0.0022 - val_tp: 83.0000 - val_fp: 100.0000 - val_tn: 56764.0000 - val_fn: 15.0000 - val_precision: 0.4536 - val_recall: 0.8469 - val_prc: 0.7817\n",
            "Epoch 5/100\n",
            "1067/1067 [==============================] - 7s 7ms/step - loss: 0.0050 - tp: 21029.0000 - fp: 160.0000 - tn: 45330.0000 - fn: 1716.0000 - precision: 0.9924 - recall: 0.9246 - prc: 0.9969 - val_loss: 0.0023 - val_tp: 84.0000 - val_fp: 141.0000 - val_tn: 56723.0000 - val_fn: 14.0000 - val_precision: 0.3733 - val_recall: 0.8571 - val_prc: 0.7820\n",
            "Epoch 6/100\n",
            "1067/1067 [==============================] - 8s 8ms/step - loss: 0.0046 - tp: 21250.0000 - fp: 184.0000 - tn: 45306.0000 - fn: 1495.0000 - precision: 0.9914 - recall: 0.9343 - prc: 0.9974 - val_loss: 0.0023 - val_tp: 84.0000 - val_fp: 178.0000 - val_tn: 56686.0000 - val_fn: 14.0000 - val_precision: 0.3206 - val_recall: 0.8571 - val_prc: 0.7782\n",
            "Epoch 7/100\n",
            "1067/1067 [==============================] - 11s 10ms/step - loss: 0.0042 - tp: 21411.0000 - fp: 212.0000 - tn: 45278.0000 - fn: 1334.0000 - precision: 0.9902 - recall: 0.9413 - prc: 0.9978 - val_loss: 0.0020 - val_tp: 83.0000 - val_fp: 137.0000 - val_tn: 56727.0000 - val_fn: 15.0000 - val_precision: 0.3773 - val_recall: 0.8469 - val_prc: 0.7766\n",
            "Epoch 8/100\n",
            "1067/1067 [==============================] - 5s 5ms/step - loss: 0.0039 - tp: 21591.0000 - fp: 197.0000 - tn: 45293.0000 - fn: 1154.0000 - precision: 0.9910 - recall: 0.9493 - prc: 0.9981 - val_loss: 0.0018 - val_tp: 81.0000 - val_fp: 132.0000 - val_tn: 56732.0000 - val_fn: 17.0000 - val_precision: 0.3803 - val_recall: 0.8265 - val_prc: 0.7826\n",
            "Epoch 9/100\n",
            "1067/1067 [==============================] - 4s 3ms/step - loss: 0.0037 - tp: 21769.0000 - fp: 193.0000 - tn: 45297.0000 - fn: 976.0000 - precision: 0.9912 - recall: 0.9571 - prc: 0.9982 - val_loss: 0.0016 - val_tp: 81.0000 - val_fp: 93.0000 - val_tn: 56771.0000 - val_fn: 17.0000 - val_precision: 0.4655 - val_recall: 0.8265 - val_prc: 0.7779\n",
            "Epoch 10/100\n",
            "1067/1067 [==============================] - 5s 5ms/step - loss: 0.0035 - tp: 21889.0000 - fp: 223.0000 - tn: 45267.0000 - fn: 856.0000 - precision: 0.9899 - recall: 0.9624 - prc: 0.9983 - val_loss: 0.0017 - val_tp: 80.0000 - val_fp: 109.0000 - val_tn: 56755.0000 - val_fn: 18.0000 - val_precision: 0.4233 - val_recall: 0.8163 - val_prc: 0.7807\n",
            "Epoch 11/100\n",
            "1067/1067 [==============================] - 5s 5ms/step - loss: 0.0034 - tp: 21917.0000 - fp: 225.0000 - tn: 45265.0000 - fn: 828.0000 - precision: 0.9898 - recall: 0.9636 - prc: 0.9984 - val_loss: 0.0020 - val_tp: 82.0000 - val_fp: 150.0000 - val_tn: 56714.0000 - val_fn: 16.0000 - val_precision: 0.3534 - val_recall: 0.8367 - val_prc: 0.7788\n",
            "Epoch 12/100\n",
            "1067/1067 [==============================] - 4s 4ms/step - loss: 0.0031 - tp: 22076.0000 - fp: 219.0000 - tn: 45271.0000 - fn: 669.0000 - precision: 0.9902 - recall: 0.9706 - prc: 0.9986 - val_loss: 0.0017 - val_tp: 80.0000 - val_fp: 126.0000 - val_tn: 56738.0000 - val_fn: 18.0000 - val_precision: 0.3883 - val_recall: 0.8163 - val_prc: 0.7858\n",
            "Epoch 13/100\n",
            "1067/1067 [==============================] - 4s 4ms/step - loss: 0.0032 - tp: 22090.0000 - fp: 251.0000 - tn: 45239.0000 - fn: 655.0000 - precision: 0.9888 - recall: 0.9712 - prc: 0.9986 - val_loss: 0.0017 - val_tp: 81.0000 - val_fp: 112.0000 - val_tn: 56752.0000 - val_fn: 17.0000 - val_precision: 0.4197 - val_recall: 0.8265 - val_prc: 0.7859\n",
            "Epoch 14/100\n",
            "1067/1067 [==============================] - 5s 5ms/step - loss: 0.0030 - tp: 22165.0000 - fp: 225.0000 - tn: 45265.0000 - fn: 580.0000 - precision: 0.9900 - recall: 0.9745 - prc: 0.9987 - val_loss: 0.0019 - val_tp: 81.0000 - val_fp: 148.0000 - val_tn: 56716.0000 - val_fn: 17.0000 - val_precision: 0.3537 - val_recall: 0.8265 - val_prc: 0.7895\n",
            "Epoch 15/100\n",
            "1067/1067 [==============================] - 4s 3ms/step - loss: 0.0030 - tp: 22184.0000 - fp: 243.0000 - tn: 45247.0000 - fn: 561.0000 - precision: 0.9892 - recall: 0.9753 - prc: 0.9986 - val_loss: 0.0018 - val_tp: 81.0000 - val_fp: 138.0000 - val_tn: 56726.0000 - val_fn: 17.0000 - val_precision: 0.3699 - val_recall: 0.8265 - val_prc: 0.7912\n",
            "Epoch 16/100\n",
            "1067/1067 [==============================] - 5s 5ms/step - loss: 0.0028 - tp: 22275.0000 - fp: 214.0000 - tn: 45276.0000 - fn: 470.0000 - precision: 0.9905 - recall: 0.9793 - prc: 0.9988 - val_loss: 0.0020 - val_tp: 82.0000 - val_fp: 139.0000 - val_tn: 56725.0000 - val_fn: 16.0000 - val_precision: 0.3710 - val_recall: 0.8367 - val_prc: 0.7924\n",
            "Epoch 17/100\n",
            "1067/1067 [==============================] - 4s 4ms/step - loss: 0.0027 - tp: 22336.0000 - fp: 203.0000 - tn: 45287.0000 - fn: 409.0000 - precision: 0.9910 - recall: 0.9820 - prc: 0.9988 - val_loss: 0.0017 - val_tp: 81.0000 - val_fp: 117.0000 - val_tn: 56747.0000 - val_fn: 17.0000 - val_precision: 0.4091 - val_recall: 0.8265 - val_prc: 0.7847\n",
            "Epoch 18/100\n",
            "1067/1067 [==============================] - 5s 5ms/step - loss: 0.0027 - tp: 22358.0000 - fp: 229.0000 - tn: 45261.0000 - fn: 387.0000 - precision: 0.9899 - recall: 0.9830 - prc: 0.9989 - val_loss: 0.0019 - val_tp: 82.0000 - val_fp: 152.0000 - val_tn: 56712.0000 - val_fn: 16.0000 - val_precision: 0.3504 - val_recall: 0.8367 - val_prc: 0.7920\n",
            "Epoch 19/100\n",
            "1067/1067 [==============================] - 4s 4ms/step - loss: 0.0031 - tp: 22360.0000 - fp: 261.0000 - tn: 45229.0000 - fn: 385.0000 - precision: 0.9885 - recall: 0.9831 - prc: 0.9985 - val_loss: 0.0015 - val_tp: 80.0000 - val_fp: 102.0000 - val_tn: 56762.0000 - val_fn: 18.0000 - val_precision: 0.4396 - val_recall: 0.8163 - val_prc: 0.7919\n",
            "Epoch 20/100\n",
            "1067/1067 [==============================] - 5s 5ms/step - loss: 0.0026 - tp: 22423.0000 - fp: 212.0000 - tn: 45278.0000 - fn: 322.0000 - precision: 0.9906 - recall: 0.9858 - prc: 0.9989 - val_loss: 0.0017 - val_tp: 81.0000 - val_fp: 128.0000 - val_tn: 56736.0000 - val_fn: 17.0000 - val_precision: 0.3876 - val_recall: 0.8265 - val_prc: 0.7850\n",
            "Epoch 21/100\n",
            "1067/1067 [==============================] - 4s 4ms/step - loss: 0.0024 - tp: 22493.0000 - fp: 202.0000 - tn: 45288.0000 - fn: 252.0000 - precision: 0.9911 - recall: 0.9889 - prc: 0.9990 - val_loss: 0.0017 - val_tp: 81.0000 - val_fp: 134.0000 - val_tn: 56730.0000 - val_fn: 17.0000 - val_precision: 0.3767 - val_recall: 0.8265 - val_prc: 0.7816\n",
            "Epoch 22/100\n",
            "1067/1067 [==============================] - 6s 6ms/step - loss: 0.0024 - tp: 22514.0000 - fp: 219.0000 - tn: 45271.0000 - fn: 231.0000 - precision: 0.9904 - recall: 0.9898 - prc: 0.9991 - val_loss: 0.0018 - val_tp: 82.0000 - val_fp: 112.0000 - val_tn: 56752.0000 - val_fn: 16.0000 - val_precision: 0.4227 - val_recall: 0.8367 - val_prc: 0.7906\n",
            "Epoch 23/100\n",
            "1067/1067 [==============================] - 5s 5ms/step - loss: 0.0027 - tp: 22529.0000 - fp: 233.0000 - tn: 45257.0000 - fn: 216.0000 - precision: 0.9898 - recall: 0.9905 - prc: 0.9987 - val_loss: 0.0016 - val_tp: 81.0000 - val_fp: 118.0000 - val_tn: 56746.0000 - val_fn: 17.0000 - val_precision: 0.4070 - val_recall: 0.8265 - val_prc: 0.7837\n",
            "Epoch 24/100\n",
            "1067/1067 [==============================] - 5s 5ms/step - loss: 0.0023 - tp: 22548.0000 - fp: 211.0000 - tn: 45279.0000 - fn: 197.0000 - precision: 0.9907 - recall: 0.9913 - prc: 0.9991 - val_loss: 0.0016 - val_tp: 81.0000 - val_fp: 111.0000 - val_tn: 56753.0000 - val_fn: 17.0000 - val_precision: 0.4219 - val_recall: 0.8265 - val_prc: 0.7907\n",
            "Epoch 25/100\n",
            "1067/1067 [==============================] - 5s 5ms/step - loss: 0.0024 - tp: 22517.0000 - fp: 214.0000 - tn: 45276.0000 - fn: 228.0000 - precision: 0.9906 - recall: 0.9900 - prc: 0.9990 - val_loss: 0.0017 - val_tp: 82.0000 - val_fp: 117.0000 - val_tn: 56747.0000 - val_fn: 16.0000 - val_precision: 0.4121 - val_recall: 0.8367 - val_prc: 0.7963\n",
            "Epoch 26/100\n",
            "1067/1067 [==============================] - 4s 4ms/step - loss: 0.0022 - tp: 22576.0000 - fp: 197.0000 - tn: 45293.0000 - fn: 169.0000 - precision: 0.9913 - recall: 0.9926 - prc: 0.9991 - val_loss: 0.0018 - val_tp: 82.0000 - val_fp: 127.0000 - val_tn: 56737.0000 - val_fn: 16.0000 - val_precision: 0.3923 - val_recall: 0.8367 - val_prc: 0.7934\n",
            "Epoch 27/100\n",
            "1067/1067 [==============================] - 4s 4ms/step - loss: 0.0023 - tp: 22553.0000 - fp: 210.0000 - tn: 45280.0000 - fn: 192.0000 - precision: 0.9908 - recall: 0.9916 - prc: 0.9990 - val_loss: 0.0017 - val_tp: 82.0000 - val_fp: 105.0000 - val_tn: 56759.0000 - val_fn: 16.0000 - val_precision: 0.4385 - val_recall: 0.8367 - val_prc: 0.7935\n",
            "Epoch 28/100\n",
            "1067/1067 [==============================] - 5s 5ms/step - loss: 0.0023 - tp: 22573.0000 - fp: 211.0000 - tn: 45279.0000 - fn: 172.0000 - precision: 0.9907 - recall: 0.9924 - prc: 0.9990 - val_loss: 0.0016 - val_tp: 81.0000 - val_fp: 123.0000 - val_tn: 56741.0000 - val_fn: 17.0000 - val_precision: 0.3971 - val_recall: 0.8265 - val_prc: 0.7836\n",
            "Epoch 29/100\n",
            "1067/1067 [==============================] - 4s 4ms/step - loss: 0.0022 - tp: 22558.0000 - fp: 223.0000 - tn: 45267.0000 - fn: 187.0000 - precision: 0.9902 - recall: 0.9918 - prc: 0.9992 - val_loss: 0.0016 - val_tp: 80.0000 - val_fp: 113.0000 - val_tn: 56751.0000 - val_fn: 18.0000 - val_precision: 0.4145 - val_recall: 0.8163 - val_prc: 0.7900\n",
            "Epoch 30/100\n",
            "1067/1067 [==============================] - 4s 4ms/step - loss: 0.0022 - tp: 22590.0000 - fp: 189.0000 - tn: 45301.0000 - fn: 155.0000 - precision: 0.9917 - recall: 0.9932 - prc: 0.9991 - val_loss: 0.0017 - val_tp: 81.0000 - val_fp: 124.0000 - val_tn: 56740.0000 - val_fn: 17.0000 - val_precision: 0.3951 - val_recall: 0.8265 - val_prc: 0.7841\n",
            "Epoch 31/100\n",
            "1067/1067 [==============================] - 4s 4ms/step - loss: 0.0021 - tp: 22598.0000 - fp: 198.0000 - tn: 45292.0000 - fn: 147.0000 - precision: 0.9913 - recall: 0.9935 - prc: 0.9992 - val_loss: 0.0017 - val_tp: 81.0000 - val_fp: 116.0000 - val_tn: 56748.0000 - val_fn: 17.0000 - val_precision: 0.4112 - val_recall: 0.8265 - val_prc: 0.7786\n",
            "Epoch 32/100\n",
            "1067/1067 [==============================] - 5s 5ms/step - loss: 0.0022 - tp: 22588.0000 - fp: 203.0000 - tn: 45287.0000 - fn: 157.0000 - precision: 0.9911 - recall: 0.9931 - prc: 0.9991 - val_loss: 0.0016 - val_tp: 81.0000 - val_fp: 99.0000 - val_tn: 56765.0000 - val_fn: 17.0000 - val_precision: 0.4500 - val_recall: 0.8265 - val_prc: 0.7873\n",
            "Epoch 33/100\n",
            "1067/1067 [==============================] - 5s 5ms/step - loss: 0.0022 - tp: 22607.0000 - fp: 199.0000 - tn: 45291.0000 - fn: 138.0000 - precision: 0.9913 - recall: 0.9939 - prc: 0.9991 - val_loss: 0.0017 - val_tp: 81.0000 - val_fp: 115.0000 - val_tn: 56749.0000 - val_fn: 17.0000 - val_precision: 0.4133 - val_recall: 0.8265 - val_prc: 0.7922\n",
            "Epoch 34/100\n",
            "1067/1067 [==============================] - 5s 5ms/step - loss: 0.0021 - tp: 22599.0000 - fp: 229.0000 - tn: 45261.0000 - fn: 146.0000 - precision: 0.9900 - recall: 0.9936 - prc: 0.9992 - val_loss: 0.0018 - val_tp: 81.0000 - val_fp: 114.0000 - val_tn: 56750.0000 - val_fn: 17.0000 - val_precision: 0.4154 - val_recall: 0.8265 - val_prc: 0.7830\n",
            "Epoch 35/100\n",
            "1067/1067 [==============================] - 4s 4ms/step - loss: 0.0021 - tp: 22629.0000 - fp: 206.0000 - tn: 45284.0000 - fn: 116.0000 - precision: 0.9910 - recall: 0.9949 - prc: 0.9991 - val_loss: 0.0019 - val_tp: 81.0000 - val_fp: 140.0000 - val_tn: 56724.0000 - val_fn: 17.0000 - val_precision: 0.3665 - val_recall: 0.8265 - val_prc: 0.7895\n",
            "Epoch 36/100\n",
            "1067/1067 [==============================] - 4s 4ms/step - loss: 0.0021 - tp: 22638.0000 - fp: 192.0000 - tn: 45298.0000 - fn: 107.0000 - precision: 0.9916 - recall: 0.9953 - prc: 0.9992 - val_loss: 0.0017 - val_tp: 81.0000 - val_fp: 131.0000 - val_tn: 56733.0000 - val_fn: 17.0000 - val_precision: 0.3821 - val_recall: 0.8265 - val_prc: 0.7834\n",
            "Epoch 37/100\n",
            "1067/1067 [==============================] - 4s 4ms/step - loss: 0.0019 - tp: 22641.0000 - fp: 189.0000 - tn: 45301.0000 - fn: 104.0000 - precision: 0.9917 - recall: 0.9954 - prc: 0.9993 - val_loss: 0.0015 - val_tp: 81.0000 - val_fp: 96.0000 - val_tn: 56768.0000 - val_fn: 17.0000 - val_precision: 0.4576 - val_recall: 0.8265 - val_prc: 0.7852\n",
            "Epoch 38/100\n",
            "1067/1067 [==============================] - 4s 4ms/step - loss: 0.0020 - tp: 22602.0000 - fp: 171.0000 - tn: 45319.0000 - fn: 143.0000 - precision: 0.9925 - recall: 0.9937 - prc: 0.9993 - val_loss: 0.0017 - val_tp: 81.0000 - val_fp: 117.0000 - val_tn: 56747.0000 - val_fn: 17.0000 - val_precision: 0.4091 - val_recall: 0.8265 - val_prc: 0.7929\n",
            "Epoch 39/100\n",
            "1067/1067 [==============================] - 4s 4ms/step - loss: 0.0020 - tp: 22648.0000 - fp: 189.0000 - tn: 45301.0000 - fn: 97.0000 - precision: 0.9917 - recall: 0.9957 - prc: 0.9992 - val_loss: 0.0017 - val_tp: 81.0000 - val_fp: 105.0000 - val_tn: 56759.0000 - val_fn: 17.0000 - val_precision: 0.4355 - val_recall: 0.8265 - val_prc: 0.7940\n",
            "Epoch 40/100\n",
            "1067/1067 [==============================] - 5s 5ms/step - loss: 0.0020 - tp: 22641.0000 - fp: 194.0000 - tn: 45296.0000 - fn: 104.0000 - precision: 0.9915 - recall: 0.9954 - prc: 0.9992 - val_loss: 0.0017 - val_tp: 81.0000 - val_fp: 108.0000 - val_tn: 56756.0000 - val_fn: 17.0000 - val_precision: 0.4286 - val_recall: 0.8265 - val_prc: 0.7938\n",
            "Epoch 41/100\n",
            "1067/1067 [==============================] - 4s 4ms/step - loss: 0.0019 - tp: 22639.0000 - fp: 191.0000 - tn: 45299.0000 - fn: 106.0000 - precision: 0.9916 - recall: 0.9953 - prc: 0.9993 - val_loss: 0.0015 - val_tp: 80.0000 - val_fp: 85.0000 - val_tn: 56779.0000 - val_fn: 18.0000 - val_precision: 0.4848 - val_recall: 0.8163 - val_prc: 0.7887\n",
            "Epoch 42/100\n",
            "1067/1067 [==============================] - 4s 4ms/step - loss: 0.0020 - tp: 22618.0000 - fp: 193.0000 - tn: 45297.0000 - fn: 127.0000 - precision: 0.9915 - recall: 0.9944 - prc: 0.9992 - val_loss: 0.0018 - val_tp: 81.0000 - val_fp: 121.0000 - val_tn: 56743.0000 - val_fn: 17.0000 - val_precision: 0.4010 - val_recall: 0.8265 - val_prc: 0.7885\n",
            "Epoch 43/100\n",
            "1067/1067 [==============================] - 4s 4ms/step - loss: 0.0020 - tp: 22644.0000 - fp: 177.0000 - tn: 45313.0000 - fn: 101.0000 - precision: 0.9922 - recall: 0.9956 - prc: 0.9992 - val_loss: 0.0018 - val_tp: 81.0000 - val_fp: 115.0000 - val_tn: 56749.0000 - val_fn: 17.0000 - val_precision: 0.4133 - val_recall: 0.8265 - val_prc: 0.7844\n",
            "Epoch 44/100\n",
            "1067/1067 [==============================] - 5s 5ms/step - loss: 0.0022 - tp: 22652.0000 - fp: 215.0000 - tn: 45275.0000 - fn: 93.0000 - precision: 0.9906 - recall: 0.9959 - prc: 0.9991 - val_loss: 0.0016 - val_tp: 81.0000 - val_fp: 103.0000 - val_tn: 56761.0000 - val_fn: 17.0000 - val_precision: 0.4402 - val_recall: 0.8265 - val_prc: 0.7914\n",
            "Epoch 45/100\n",
            "1050/1067 [============================>.] - ETA: 0s - loss: 0.0019 - tp: 22291.0000 - fp: 168.0000 - tn: 44647.0000 - fn: 94.0000 - precision: 0.9925 - recall: 0.9958 - prc: 0.9993Restoring model weights from the end of the best epoch: 25.\n",
            "1067/1067 [==============================] - 5s 5ms/step - loss: 0.0019 - tp: 22649.0000 - fp: 170.0000 - tn: 45320.0000 - fn: 96.0000 - precision: 0.9926 - recall: 0.9958 - prc: 0.9993 - val_loss: 0.0018 - val_tp: 81.0000 - val_fp: 111.0000 - val_tn: 56753.0000 - val_fn: 17.0000 - val_precision: 0.4219 - val_recall: 0.8265 - val_prc: 0.7851\n",
            "Epoch 45: early stopping\n"
          ]
        }
      ]
    },
    {
      "cell_type": "code",
      "source": [
        "model.save('model_SMOTE.h5')"
      ],
      "metadata": {
        "id": "VeCGmVwv7TZA"
      },
      "execution_count": null,
      "outputs": []
    },
    {
      "cell_type": "code",
      "source": [
        "plot_metrics(baseline_SMOTE_history, 'metrics_SMOTE')"
      ],
      "metadata": {
        "colab": {
          "base_uri": "https://localhost:8080/",
          "height": 279
        },
        "id": "doURSVmUwry4",
        "outputId": "367fb2bb-a425-4502-c72a-534e56e49473"
      },
      "execution_count": null,
      "outputs": [
        {
          "output_type": "display_data",
          "data": {
            "text/plain": [
              "<Figure size 432x288 with 4 Axes>"
            ],
            "image/png": "[encoded data removed]"
          },
          "metadata": {
            "needs_background": "light"
          }
        }
      ]
    },
    {
      "cell_type": "code",
      "source": [
        "train_predictions_baselineSMOTE = model.predict(X_train, batch_size=BATCH_SIZE)\n",
        "test_predictions_baselineSMOTE = model.predict(X_test, batch_size=BATCH_SIZE)"
      ],
      "metadata": {
        "id": "Up3W9ICTwry4"
      },
      "execution_count": null,
      "outputs": []
    },
    {
      "cell_type": "code",
      "source": [
        "baselineSMOTE_results = model.evaluate(X_test, y_test, batch_size=BATCH_SIZE, verbose=0)\n",
        "for name, value in zip(model.metrics_names, baselineSMOTE_results):\n",
        "    print(name, ': ', value)\n",
        "\n",
        "print()\n",
        "plot_cm(y_test, test_predictions_baselineSMOTE, 'confusion_matrix_SMOTE')"
      ],
      "metadata": {
        "colab": {
          "base_uri": "https://localhost:8080/",
          "height": 593
        },
        "id": "fusklKD9wry5",
        "outputId": "6ba97c24-7021-436d-ee7f-9fa95f215b3c"
      },
      "execution_count": null,
      "outputs": [
        {
          "output_type": "stream",
          "name": "stdout",
          "text": [
            "loss :  0.0017435086192563176\n",
            "tp :  82.0\n",
            "fp :  117.0\n",
            "tn :  56747.0\n",
            "fn :  16.0\n",
            "precision :  0.41206029057502747\n",
            "recall :  0.8367347121238708\n",
            "prc :  0.7962650060653687\n",
            "\n",
            "Legitimate Transactions Detected (True Negatives):  56747\n",
            "Legitimate Transactions Incorrectly Detected (False Positives):  117\n",
            "Fraudulent Transactions Missed (False Negatives):  16\n",
            "Fraudulent Transactions Detected (True Positives):  82\n",
            "Total Fraudulent Transactions:  98\n"
          ]
        },
        {
          "output_type": "display_data",
          "data": {
            "text/plain": [
              "<Figure size 360x360 with 2 Axes>"
            ],
            "image/png": "[encoded data removed]"
          },
          "metadata": {
            "needs_background": "light"
          }
        }
      ]
    },
    {
      "cell_type": "code",
      "source": [
        "thresholdSMOTE = plot_prc(\"Train Baseline\", y_train, train_predictions_baselineSMOTE, color=colors[0])\n",
        "plot_prc(\"Test Baseline\", y_test, test_predictions_baselineSMOTE, color=colors[0], linestyle='--')\n",
        "plt.legend(loc='lower left');\n",
        "plt.savefig('auprc_SMOTE')"
      ],
      "metadata": {
        "colab": {
          "base_uri": "https://localhost:8080/",
          "height": 279
        },
        "id": "VlUMnll2wry5",
        "outputId": "2b4841e7-6816-4616-d143-f9d2563d329b"
      },
      "execution_count": null,
      "outputs": [
        {
          "output_type": "display_data",
          "data": {
            "text/plain": [
              "<Figure size 432x288 with 1 Axes>"
            ],
            "image/png": "[encoded data removed]"
          },
          "metadata": {
            "needs_background": "light"
          }
        }
      ]
    },
    {
      "cell_type": "code",
      "source": [
        "plot_cm(y_test, test_predictions_baselineSMOTE, 'confusion_matrix_SMOTE_threshold', p = thresholdSMOTE)"
      ],
      "metadata": {
        "colab": {
          "base_uri": "https://localhost:8080/",
          "height": 437
        },
        "id": "I71T0_Uqwry6",
        "outputId": "0f6308d2-4fa1-40e6-d519-f259981ffc83"
      },
      "execution_count": null,
      "outputs": [
        {
          "output_type": "stream",
          "name": "stdout",
          "text": [
            "Legitimate Transactions Detected (True Negatives):  56821\n",
            "Legitimate Transactions Incorrectly Detected (False Positives):  43\n",
            "Fraudulent Transactions Missed (False Negatives):  18\n",
            "Fraudulent Transactions Detected (True Positives):  80\n",
            "Total Fraudulent Transactions:  98\n"
          ]
        },
        {
          "output_type": "display_data",
          "data": {
            "text/plain": [
              "<Figure size 360x360 with 2 Axes>"
            ],
            "image/png": "[encoded data removed]"
          },
          "metadata": {
            "needs_background": "light"
          }
        }
      ]
    }
  ]
}